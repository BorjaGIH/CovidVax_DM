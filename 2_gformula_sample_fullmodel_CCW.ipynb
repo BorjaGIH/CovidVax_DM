{
 "cells": [
  {
   "cell_type": "code",
   "execution_count": 1,
   "metadata": {
    "tags": []
   },
   "outputs": [],
   "source": [
    "import numpy as np\n",
    "import os\n",
    "import pandas as pd\n",
    "from pygformula import ParametricGformula\n",
    "from pygformula.parametric_gformula.interventions import static\n",
    "from pygformula.data import load_basicdata_nocomp\n",
    "from IPython import get_ipython\n",
    "import gc\n",
    "import datetime"
   ]
  },
  {
   "cell_type": "markdown",
   "metadata": {},
   "source": [
    "### Toy example with real data"
   ]
  },
  {
   "cell_type": "code",
   "execution_count": 2,
   "metadata": {
    "tags": []
   },
   "outputs": [],
   "source": [
    "data_all = pd.read_csv('included_cohort_sample_prep.csv')"
   ]
  },
  {
   "cell_type": "code",
   "execution_count": 3,
   "metadata": {
    "tags": []
   },
   "outputs": [],
   "source": [
    "data_all.drop(['Unnamed: 0'], inplace=True, axis=1)"
   ]
  },
  {
   "cell_type": "code",
   "execution_count": 4,
   "metadata": {
    "tags": []
   },
   "outputs": [],
   "source": [
    "data_all = data_all.sample(frac=0.1, random_state=1).copy()"
   ]
  },
  {
   "cell_type": "code",
   "execution_count": 5,
   "metadata": {
    "tags": []
   },
   "outputs": [],
   "source": [
    "#data_all.sexe = data_all.sexe.map({'H':0, 'D':1})"
   ]
  },
  {
   "cell_type": "code",
   "execution_count": 6,
   "metadata": {},
   "outputs": [],
   "source": [
    "grace_period_days = 180\n",
    "grace_period = datetime.timedelta(days=grace_period_days)"
   ]
  },
  {
   "cell_type": "code",
   "execution_count": 7,
   "metadata": {
    "tags": []
   },
   "outputs": [],
   "source": [
    "data_all['VACUNA_1_DATA'] = pd.to_datetime(data_all['VACUNA_1_DATA'])\n",
    "data_all['VACUNA_2_DATA'] = pd.to_datetime(data_all['VACUNA_2_DATA'])\n",
    "data_all['VACUNA_3_DATA'] = pd.to_datetime(data_all['VACUNA_3_DATA'])"
   ]
  },
  {
   "cell_type": "code",
   "execution_count": 8,
   "metadata": {
    "tags": []
   },
   "outputs": [],
   "source": [
    "data_all['VACUNA_1_DATA_pp'] = pd.to_datetime(data_all['VACUNA_1_DATA_pp'], format='mixed', utc=True)\n",
    "data_all['VACUNA_2_DATA_pp'] = pd.to_datetime(data_all['VACUNA_2_DATA_pp'], format='mixed', utc=True)\n",
    "data_all['VACUNA_3_DATA_pp'] = pd.to_datetime(data_all['VACUNA_3_DATA_pp'], format='mixed', utc=True)"
   ]
  },
  {
   "cell_type": "code",
   "execution_count": 9,
   "metadata": {
    "tags": []
   },
   "outputs": [],
   "source": [
    "# Clone\n",
    "data0 = data_all.copy()\n",
    "data1 = data_all.copy()\n",
    "data2 = data_all.copy()\n",
    "data3 = data_all.copy()"
   ]
  },
  {
   "cell_type": "code",
   "execution_count": null,
   "metadata": {},
   "outputs": [],
   "source": []
  },
  {
   "cell_type": "code",
   "execution_count": 10,
   "metadata": {
    "tags": []
   },
   "outputs": [],
   "source": [
    "for index, clonetable in enumerate([data0, data1, data2, data3]):\n",
    "    clonetable.NIA = clonetable.NIA.astype(str) + f'_{index}'\n",
    "    #print(clonetable.head(5))\n",
    "    #print(index)\n",
    "    clonetable['Vacuna_assign_1'] = 0\n",
    "    clonetable['Vacuna_assign_2'] = 0\n",
    "    clonetable['Vacuna_assign_3'] = 0\n",
    "    clonetable['N_vaccine_total_assigned'] = index\n",
    "    \n",
    "    for j in range(1,index+1):\n",
    "        clonetable[f'Vacuna_assign_{j}'] = 1\n",
    "        \n",
    "    clonetable['Censor_1'] = 0 \n",
    "    clonetable['Censor_2'] = 0\n",
    "    clonetable['Censor_3'] = 0\n",
    "    \n",
    "    # Censor violations of the protocol\n",
    "    clonetable.loc[clonetable.Vacuna_1!=clonetable.Vacuna_assign_1, ['Censor_1', 'Censor_2', 'Censor_3']] = 1\n",
    "    clonetable.loc[clonetable.Vacuna_2!=clonetable.Vacuna_assign_2, ['Censor_2', 'Censor_3']] = 1\n",
    "    clonetable.loc[clonetable.Vacuna_3!=clonetable.Vacuna_assign_3, ['Censor_3']] = 1\n",
    "    \n",
    "    # Censor violations of the grace period\n",
    "    clonetable.loc[clonetable.VACUNA_1_DATA>(clonetable.VACUNA_1_DATA_pp + grace_period), ['Censor_1', 'Censor_2', 'Censor_3']] = 1\n",
    "    clonetable.loc[clonetable.VACUNA_2_DATA>(clonetable.VACUNA_2_DATA_pp + grace_period), ['Censor_2', 'Censor_3']] = 1\n",
    "    clonetable.loc[clonetable.VACUNA_3_DATA>(clonetable.VACUNA_3_DATA_pp + grace_period), ['Censor_3']] = 1"
   ]
  },
  {
   "cell_type": "code",
   "execution_count": 11,
   "metadata": {
    "tags": []
   },
   "outputs": [],
   "source": [
    "# CONSIDER CHANGING NAME\n",
    "data = pd.concat([data0, data1, data2, data3])"
   ]
  },
  {
   "cell_type": "code",
   "execution_count": 12,
   "metadata": {
    "tags": []
   },
   "outputs": [
    {
     "name": "stdout",
     "output_type": "stream",
     "text": [
      "% of uncensored\n",
      "38.36244832644353\n"
     ]
    }
   ],
   "source": [
    "print('% of uncensored')\n",
    "print(len(data[data.Censor_3==0]) / (len(data)/4) *100)"
   ]
  },
  {
   "cell_type": "code",
   "execution_count": 13,
   "metadata": {
    "tags": []
   },
   "outputs": [],
   "source": [
    "data.data_naixement = data.data_naixement.str[0:4]"
   ]
  },
  {
   "cell_type": "code",
   "execution_count": 14,
   "metadata": {
    "tags": []
   },
   "outputs": [],
   "source": [
    "###### CAMBIAR FORMATO DE LOS DATOS (PIVOT) "
   ]
  },
  {
   "cell_type": "code",
   "execution_count": 15,
   "metadata": {
    "tags": []
   },
   "outputs": [],
   "source": [
    "for i in range(1,4):\n",
    "    data.rename({'VACUNA_{}_DATA'.format(i): 'VACUNA_DATA_{}'.format(i)}, axis=1, inplace=True)\n",
    "    data.rename({'VACUNA_{}_MOTIU'.format(i): 'VACUNA_MOTIU_{}'.format(i)}, axis=1, inplace=True)\n",
    "    data.rename({'VACUNA_{}_DATA_pp'.format(i): 'VACUNA_DATA_pp_{}'.format(i)}, axis=1, inplace=True)"
   ]
  },
  {
   "cell_type": "code",
   "execution_count": 16,
   "metadata": {
    "tags": []
   },
   "outputs": [],
   "source": [
    "stubnames = ['VACUNA_DATA_1', 'VACUNA_MOTIU_1', 'VACUNA_DATA_2',\n",
    "'VACUNA_MOTIU_2', 'VACUNA_DATA_3', 'VACUNA_MOTIU_3', 'VACUNA_DATA_pp_1',\n",
    "'VACUNA_DATA_pp_2', 'VACUNA_DATA_pp_3', \n",
    "'test_date_covid_1', 'test_res_covid_1',\n",
    "'test_date_covid_2', 'test_res_covid_2', 'test_date_covid_3',\n",
    "'test_res_covid_3', 'test_date_imc_1', 'test_res_imc_1',\n",
    "'test_date_imc_2', 'test_res_imc_2', 'test_date_imc_3',\n",
    "'test_res_imc_3', 'test_date_sp_1', 'test_res_sp_1', 'test_date_sp_2',\n",
    "'test_res_sp_2', 'test_date_sp_3', 'test_res_sp_3', 'test_date_dp_1',\n",
    "'test_res_dp_1', 'test_date_dp_2', 'test_res_dp_2', 'test_date_dp_3',\n",
    "'test_res_dp_3', 'test_date_abdo_1', 'test_res_abdo_1',\n",
    "'test_date_abdo_2', 'test_res_abdo_2', 'test_date_abdo_3',\n",
    "'test_res_abdo_3', 'test_date_bg_1', 'test_res_bg_1', 'test_date_bg_2',\n",
    "'test_res_bg_2', 'test_date_bg_3', 'test_res_bg_3', 'test_date_chol_1',\n",
    "'test_res_chol_1', 'test_date_chol_2', 'test_res_chol_2',\n",
    "'test_date_chol_3', 'test_res_chol_3', 'test_date_smoking_1',\n",
    "'test_res_smoking_1', 'test_date_smoking_2', 'test_res_smoking_2',\n",
    "'test_date_smoking_3', 'test_res_smoking_3', 'test_date_gma_1',\n",
    "'test_res_gma_1', 'test_date_gma_2', 'test_res_gma_2',\n",
    "'test_date_gma_3', 'test_res_gma_3',  'Vacuna_1', 'Vacuna_2', 'Vacuna_3', \n",
    "'Vacuna_assign_1', 'Vacuna_assign_2', 'Vacuna_assign_3', 'Censor_1', 'Censor_2', 'Censor_3'] \n",
    "\n",
    "# 'test_date_sociostat_1',\n",
    "# 'test_res_sociostat_1', 'test_date_sociostat_2', 'test_res_sociostat_2',\n",
    "# 'test_date_sociostat_3', 'test_res_sociostat_3',"
   ]
  },
  {
   "cell_type": "code",
   "execution_count": null,
   "metadata": {},
   "outputs": [],
   "source": []
  },
  {
   "cell_type": "code",
   "execution_count": null,
   "metadata": {},
   "outputs": [],
   "source": []
  },
  {
   "cell_type": "code",
   "execution_count": 17,
   "metadata": {
    "tags": []
   },
   "outputs": [],
   "source": [
    "for i in range(0,len(stubnames)):\n",
    "    stubnames[i] = stubnames[i][0:-1]"
   ]
  },
  {
   "cell_type": "code",
   "execution_count": 18,
   "metadata": {
    "tags": []
   },
   "outputs": [],
   "source": [
    "data_piv = pd.wide_to_long(data, list(set(stubnames)), i='NIA', j='time')\n",
    "data_piv.reset_index(inplace=True, drop=False)\n",
    "data_piv.rename({'Vacuna_':'Vacuna'}, axis=1, inplace=True)\n",
    "data_piv.time = data_piv.time - 1"
   ]
  },
  {
   "cell_type": "code",
   "execution_count": 19,
   "metadata": {
    "tags": []
   },
   "outputs": [],
   "source": [
    "# G-formula"
   ]
  },
  {
   "cell_type": "code",
   "execution_count": 20,
   "metadata": {
    "tags": []
   },
   "outputs": [],
   "source": [
    "# G-formula package params\n",
    "time_name = 'time'\n",
    "id = 'NIA'\n",
    "time_points = np.max(np.unique(data_piv[time_name])) + 1"
   ]
  },
  {
   "cell_type": "code",
   "execution_count": 21,
   "metadata": {
    "tags": []
   },
   "outputs": [
    {
     "data": {
      "text/plain": [
       "0"
      ]
     },
     "execution_count": 21,
     "metadata": {},
     "output_type": "execute_result"
    }
   ],
   "source": [
    "covnames = [\n",
    "'test_res_sp_',\n",
    "'test_res_smoking_',\n",
    "'test_res_chol_',\n",
    "'test_res_abdo_',\n",
    "'test_res_dp_',\n",
    "'test_res_imc_',\n",
    "'test_res_bg_',\n",
    "'test_res_covid_',\n",
    "'test_res_gma_',\n",
    "'Vacuna']\n",
    "\n",
    "covtypes = [\n",
    "'unknown-continuous',\n",
    "'unknown-continuous',\n",
    "'unknown-continuous',\n",
    "'unknown-continuous',\n",
    "'unknown-continuous',\n",
    "'unknown-continuous',\n",
    "'unknown-continuous',\n",
    "'unknown-binary',\n",
    "'unknown-continuous',\n",
    "'unknown-binary']\n",
    "\n",
    "trunc_params = ['NA', 'NA', 'NA', 'NA', 'NA', 'NA','NA', 'NA', 'NA', 'NA']\n",
    "\n",
    "covmodels = [\n",
    "'test_res_sp_ ~ lag1_test_res_sp_ + lag1_test_res_imc_ + data_naixement + pais_c + lag1_test_res_smoking_ + test_res_sociostat_1 + lag1_Vacuna + time',\n",
    "'test_res_smoking_ ~ lag1_test_res_smoking_ + data_naixement + pais_c + test_res_sociostat_1 + lag1_Vacuna + time',\n",
    "'test_res_chol_ ~ lag1_test_res_chol_ + data_naixement + pais_c + test_res_sociostat_1 + lag1_Vacuna + time',\n",
    "'test_res_abdo_ ~ lag1_test_res_abdo_ + lag1_test_res_imc_ + data_naixement + pais_c + lag1_test_res_smoking_ + lag1_Vacuna + time',\n",
    "'test_res_dp_ ~ lag1_test_res_dp_ + lag1_test_res_imc_ + data_naixement + pais_c + lag1_test_res_smoking_ + test_res_sociostat_1 + lag1_Vacuna + time',\n",
    "'test_res_imc_ ~ lag1_test_res_imc_ + data_naixement + pais_c + lag1_test_res_smoking_ + test_res_sociostat_1 + lag1_Vacuna + time',\n",
    "'test_res_bg_ ~ lag1_test_res_bg_ + lag1_test_res_imc_ + data_naixement + pais_c + test_res_sociostat_1 + lag1_Vacuna + time',\n",
    "'test_res_covid_ ~ lag1_test_res_covid_ + lag1_test_res_imc_ + data_naixement + pais_c + lag1_test_res_bg_ + lag1_test_res_smoking_ + test_res_sociostat_1 + lag1_Vacuna + time',\n",
    "'test_res_gma_ ~ lag1_test_res_gma_ + lag1_test_res_imc_ + data_naixement + lag1_test_res_dp_ + lag1_test_res_sp_ + lag1_test_res_chol_ + pais_c + lag1_test_res_bg_ + lag1_test_res_smoking_ + lag1_Vacuna + time',\n",
    "'Vacuna ~ lag1_Vacuna + lag1_test_res_sp_ + lag1_test_res_smoking_ + lag1_test_res_chol_ + lag1_test_res_abdo_ + lag1_test_res_dp_ + lag1_test_res_imc_ + lag1_test_res_bg_ + lag1_test_res_covid_ + lag1_test_res_gma_ + time']\n",
    "\n",
    "basecovs = ['abs_c', 'pais_c', 'sexe', 'data_naixement', 'test_res_sociostat_1'] \n",
    "\n",
    "outcome_name = 'DM'\n",
    "ymodel = 'DM ~ abs_c + pais_c + sexe + data_naixement + test_res_sociostat_1+\\\n",
    "test_res_sp_ + lag1_test_res_sp_ +\\\n",
    "test_res_smoking_ + lag1_test_res_smoking_+\\\n",
    "test_res_chol_ + lag1_test_res_chol_+\\\n",
    "test_res_abdo_ + lag1_test_res_abdo_+\\\n",
    "test_res_dp_ + lag1_test_res_dp_+\\\n",
    "test_res_imc_ + lag1_test_res_imc_+\\\n",
    "test_res_bg_ + lag1_test_res_bg_+\\\n",
    "test_res_covid_ + lag1_test_res_covid_+\\\n",
    "test_res_gma_ + lag1_test_res_gma_+\\\n",
    "Vacuna + lag1_Vacuna'\n",
    "ymodel_type = 'ML'\n",
    "\n",
    "\n",
    "outcome_type = 'binary_eof'\n",
    "if outcome_type=='binary_eof':\n",
    "    # Transform outcome for binary eof\n",
    "    data_piv.loc[(data_piv.time==0)|(data_piv.time==1), 'DM'] = np.NaN\n",
    "\n",
    "censor_CCW_name = 'Censor_'\n",
    "censor_CCW_model = 'Censor_ ~  test_res_sp_ + test_res_smoking_ + test_res_chol_ + test_res_abdo_ + test_res_dp_ + test_res_imc_ + test_res_bg_ + test_res_covid_ + test_res_gma_+\\\n",
    "                    abs_c + pais_c + sexe + data_naixement + test_res_sociostat_1 + time ' # + lag1_Censor_ pais_c +\n",
    "\n",
    "int_descript = ['Never treat', 'Treat on Vacuna only at t1', 'Treat on Vacuna only at t1 & t2', 'Treat on Vacuna at t1, t2 & t3']\n",
    "Intervention1_Vacuna = [static, np.zeros(time_points),[0, 1, 2]]\n",
    "Intervention2_Vacuna = [static, np.ones(time_points), [0]]\n",
    "Intervention3_Vacuna = [static, np.ones(time_points), [0, 1]]\n",
    "Intervention4_Vacuna = [static, np.ones(time_points), [0, 1, 2]]\n",
    "\n",
    "\n",
    "# Try to save some space - gives a Future warning of setting incompatible type\n",
    "#float64_cols = list(data_piv.select_dtypes(include='float64'))\n",
    "#data_piv[float64_cols] = data_piv[float64_cols].astype('float32')\n",
    "gc.collect()"
   ]
  },
  {
   "cell_type": "code",
   "execution_count": 22,
   "metadata": {
    "tags": []
   },
   "outputs": [
    {
     "name": "stdout",
     "output_type": "stream",
     "text": [
      "start fitting parametric model.\n"
     ]
    },
    {
     "name": "stderr",
     "output_type": "stream",
     "text": [
      "/home/bvelasco/miniconda3/envs/python3.10/lib/python3.10/site-packages/sklearn/linear_model/_logistic.py:469: ConvergenceWarning: lbfgs failed to converge (status=1):\n",
      "STOP: TOTAL NO. of ITERATIONS REACHED LIMIT.\n",
      "\n",
      "Increase the number of iterations (max_iter) or scale the data as shown in:\n",
      "    https://scikit-learn.org/stable/modules/preprocessing.html\n",
      "Please also refer to the documentation for alternative solver options:\n",
      "    https://scikit-learn.org/stable/modules/linear_model.html#logistic-regression\n",
      "  n_iter_i = _check_optimize_result(\n"
     ]
    },
    {
     "name": "stdout",
     "output_type": "stream",
     "text": [
      "start simulating.\n",
      "+---------------------------------+---------+----------------------------------+----------------+---------------------+\n",
      "|           Intervention          | NP mean | g-formula mean (NICE-parametric) | Mean Ratio(MR) | Mean Difference(MD) |\n",
      "+---------------------------------+---------+----------------------------------+----------------+---------------------+\n",
      "|       Natural course(ref)       | 0.01884 |             0.08153              |    1.00000     |       0.00000       |\n",
      "|           Never treat           |    NA   |             0.09458              |    1.16004     |       0.01305       |\n",
      "|    Treat on Vacuna only at t1   |    NA   |             0.08017              |    0.98323     |       -0.00137      |\n",
      "| Treat on Vacuna only at t1 & t2 |    NA   |             0.07954              |    0.97555     |       -0.00199      |\n",
      "|  Treat on Vacuna at t1, t2 & t3 |    NA   |             0.07937              |    0.97348     |       -0.00216      |\n",
      "+---------------------------------+---------+----------------------------------+----------------+---------------------+\n",
      "********************************************************************\n"
     ]
    }
   ],
   "source": [
    "# G-formula package call\n",
    "g = ParametricGformula(obs_data = data_piv, id = id, time_name=time_name,\n",
    "           time_points = time_points, int_descript = int_descript,\n",
    "           covnames=covnames, covtypes=covtypes, trunc_params=trunc_params,\n",
    "           covmodels=covmodels, basecovs=basecovs,\n",
    "           outcome_name=outcome_name, ymodel=ymodel, ymodel_type=ymodel_type, outcome_type=outcome_type,\n",
    "           censor_CCW_name = censor_CCW_name, censor_CCW_model = censor_CCW_model,\n",
    "           Intervention1_Vacuna = Intervention1_Vacuna,\n",
    "           Intervention2_Vacuna = Intervention2_Vacuna,\n",
    "           Intervention3_Vacuna = Intervention3_Vacuna,\n",
    "           Intervention4_Vacuna = Intervention4_Vacuna,\n",
    "           nsamples=0, parallel=False, ncores=30) # , save_results=True, save_path=f'Results/{outcome_type}/'\n",
    "g.fit()\n",
    "print('********************************************************************')"
   ]
  },
  {
   "cell_type": "markdown",
   "metadata": {},
   "source": [
    "### Notes:\n",
    "- Time has to start at 0, otherwise we get errors of type \"operands of shape () could not be broadcast together\"\n",
    "- No NaNs in the covariates, otherwise we get errors of type \"operands of shape () could not be broadcast together\""
   ]
  }
 ],
 "metadata": {
  "kernelspec": {
   "display_name": "python3.10-kernel",
   "language": "python",
   "name": "python3.10"
  },
  "language_info": {
   "codemirror_mode": {
    "name": "ipython",
    "version": 3
   },
   "file_extension": ".py",
   "mimetype": "text/x-python",
   "name": "python",
   "nbconvert_exporter": "python",
   "pygments_lexer": "ipython3",
   "version": "3.10.14"
  }
 },
 "nbformat": 4,
 "nbformat_minor": 4
}
