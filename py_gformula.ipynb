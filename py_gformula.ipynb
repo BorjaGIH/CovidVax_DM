{
 "cells": [
  {
   "cell_type": "code",
   "execution_count": 6,
   "metadata": {},
   "outputs": [],
   "source": [
    "import numpy as np\n",
    "import os\n",
    "import pandas as pd\n",
    "from pygformula import ParametricGformula\n",
    "from pygformula.parametric_gformula.interventions import static\n",
    "from pygformula.data import load_basicdata_nocomp\n",
    "import pickle"
   ]
  },
  {
   "cell_type": "markdown",
   "metadata": {},
   "source": [
    "### G-Formula"
   ]
  },
  {
   "cell_type": "code",
   "execution_count": null,
   "metadata": {},
   "outputs": [],
   "source": [
    "data = pd.read_csv('included_cohort_prep.csv')"
   ]
  },
  {
   "cell_type": "code",
   "execution_count": 3,
   "metadata": {},
   "outputs": [],
   "source": [
    "data.drop(['Unnamed: 0'], inplace=True, axis=1)"
   ]
  },
  {
   "cell_type": "code",
   "execution_count": 8,
   "metadata": {},
   "outputs": [],
   "source": [
    "data = data.sample(frac=0.5, random_state=1).copy()"
   ]
  },
  {
   "cell_type": "code",
   "execution_count": 9,
   "metadata": {},
   "outputs": [
    {
     "data": {
      "text/plain": [
       "1874766"
      ]
     },
     "execution_count": 9,
     "metadata": {},
     "output_type": "execute_result"
    }
   ],
   "source": [
    "len(data)"
   ]
  },
  {
   "cell_type": "code",
   "execution_count": 10,
   "metadata": {},
   "outputs": [
    {
     "data": {
      "text/plain": [
       "Index(['NIA', 'sexe', 'data_naixement', 'abs_c', 'abs', 'pais_c',\n",
       "       'N_vaccine_total', 'VACUNA_1_DATA', 'VACUNA_1_MOTIU', 'VACUNA_2_DATA',\n",
       "       'VACUNA_2_MOTIU', 'VACUNA_3_DATA', 'VACUNA_3_MOTIU', 'VACUNA_1_DATA_pp',\n",
       "       'VACUNA_2_DATA_pp', 'VACUNA_3_DATA_pp', 'DATA_DM_min', 'DM',\n",
       "       'covid_bef_vax', 'test_date_covid_1', 'test_res_covid_1',\n",
       "       'test_date_covid_2', 'test_res_covid_2', 'test_date_covid_3',\n",
       "       'test_res_covid_3', 'test_date_imc_1', 'test_res_imc_1',\n",
       "       'test_date_imc_2', 'test_res_imc_2', 'test_date_imc_3',\n",
       "       'test_res_imc_3', 'test_date_sp_1', 'test_res_sp_1', 'test_date_sp_2',\n",
       "       'test_res_sp_2', 'test_date_sp_3', 'test_res_sp_3', 'test_date_dp_1',\n",
       "       'test_res_dp_1', 'test_date_dp_2', 'test_res_dp_2', 'test_date_dp_3',\n",
       "       'test_res_dp_3', 'test_date_abdo_1', 'test_res_abdo_1',\n",
       "       'test_date_abdo_2', 'test_res_abdo_2', 'test_date_abdo_3',\n",
       "       'test_res_abdo_3', 'test_date_bg_1', 'test_res_bg_1', 'test_date_bg_2',\n",
       "       'test_res_bg_2', 'test_date_bg_3', 'test_res_bg_3', 'test_date_chol_1',\n",
       "       'test_res_chol_1', 'test_date_chol_2', 'test_res_chol_2',\n",
       "       'test_date_chol_3', 'test_res_chol_3', 'test_date_smoking_1',\n",
       "       'test_res_smoking_1', 'test_date_smoking_2', 'test_res_smoking_2',\n",
       "       'test_date_smoking_3', 'test_res_smoking_3', 'test_date_gma_1',\n",
       "       'test_res_gma_1', 'test_date_gma_2', 'test_res_gma_2',\n",
       "       'test_date_gma_3', 'test_res_gma_3', 'test_date_sociostat_1',\n",
       "       'test_res_sociostat_1', 'test_date_sociostat_2', 'test_res_sociostat_2',\n",
       "       'test_date_sociostat_3', 'test_res_sociostat_3', 'age_1', 'age_2',\n",
       "       'age_3', 'idabs', 'ISC reescalat', 'Vacuna_1', 'Vacuna_2', 'Vacuna_3'],\n",
       "      dtype='object')"
      ]
     },
     "execution_count": 10,
     "metadata": {},
     "output_type": "execute_result"
    }
   ],
   "source": [
    "data.columns"
   ]
  },
  {
   "cell_type": "code",
   "execution_count": 11,
   "metadata": {},
   "outputs": [],
   "source": [
    "###### CAMBIAR FORMATO DE LOS DATOS (PIVOT) "
   ]
  },
  {
   "cell_type": "code",
   "execution_count": 12,
   "metadata": {},
   "outputs": [
    {
     "name": "stdout",
     "output_type": "stream",
     "text": [
      "1\n",
      "2\n",
      "3\n"
     ]
    }
   ],
   "source": [
    "for i in range(1,4):\n",
    "  print(i)\n",
    "  data.rename({'VACUNA_{}_DATA'.format(i): 'VACUNA_DATA_{}'.format(i)}, axis=1, inplace=True)\n",
    "  data.rename({'VACUNA_{}_MOTIU'.format(i): 'VACUNA_MOTIU_{}'.format(i)}, axis=1, inplace=True)\n",
    "  data.rename({'VACUNA_{}_DATA_pp'.format(i): 'VACUNA_DATA_pp_{}'.format(i)}, axis=1, inplace=True)"
   ]
  },
  {
   "cell_type": "code",
   "execution_count": 13,
   "metadata": {},
   "outputs": [],
   "source": [
    "stubnames = ['VACUNA_DATA_1', 'VACUNA_MOTIU_1', 'VACUNA_DATA_2',\n",
    "'VACUNA_MOTIU_2', 'VACUNA_DATA_3', 'VACUNA_MOTIU_3', 'VACUNA_DATA_pp_1',\n",
    "'VACUNA_DATA_pp_2', 'VACUNA_DATA_pp_3', \n",
    "'test_date_covid_1', 'test_res_covid_1',\n",
    "'test_date_covid_2', 'test_res_covid_2', 'test_date_covid_3',\n",
    "'test_res_covid_3', 'test_date_imc_1', 'test_res_imc_1',\n",
    "'test_date_imc_2', 'test_res_imc_2', 'test_date_imc_3',\n",
    "'test_res_imc_3', 'test_date_sp_1', 'test_res_sp_1', 'test_date_sp_2',\n",
    "'test_res_sp_2', 'test_date_sp_3', 'test_res_sp_3', 'test_date_dp_1',\n",
    "'test_res_dp_1', 'test_date_dp_2', 'test_res_dp_2', 'test_date_dp_3',\n",
    "'test_res_dp_3', 'test_date_abdo_1', 'test_res_abdo_1',\n",
    "'test_date_abdo_2', 'test_res_abdo_2', 'test_date_abdo_3',\n",
    "'test_res_abdo_3', 'test_date_bg_1', 'test_res_bg_1', 'test_date_bg_2',\n",
    "'test_res_bg_2', 'test_date_bg_3', 'test_res_bg_3', 'test_date_chol_1',\n",
    "'test_res_chol_1', 'test_date_chol_2', 'test_res_chol_2',\n",
    "'test_date_chol_3', 'test_res_chol_3', 'test_date_smoking_1',\n",
    "'test_res_smoking_1', 'test_date_smoking_2', 'test_res_smoking_2',\n",
    "'test_date_smoking_3', 'test_res_smoking_3', 'test_date_gma_1',\n",
    "'test_res_gma_1', 'test_date_gma_2', 'test_res_gma_2',\n",
    "'test_date_gma_3', 'test_res_gma_3', 'Vacuna_1', 'Vacuna_2', 'Vacuna_3']"
   ]
  },
  {
   "cell_type": "code",
   "execution_count": 14,
   "metadata": {},
   "outputs": [],
   "source": [
    "for i in range(0,len(stubnames)):\n",
    "  stubnames[i] = stubnames[i][0:-1]"
   ]
  },
  {
   "cell_type": "code",
   "execution_count": 16,
   "metadata": {},
   "outputs": [],
   "source": [
    "data_piv = pd.wide_to_long(data, list(set(stubnames)), i='NIA', j='time')\n",
    "data_piv.reset_index(inplace=True, drop=False)"
   ]
  },
  {
   "cell_type": "code",
   "execution_count": 17,
   "metadata": {},
   "outputs": [],
   "source": [
    "data_piv.time = data_piv.time - 1"
   ]
  },
  {
   "cell_type": "code",
   "execution_count": 18,
   "metadata": {},
   "outputs": [],
   "source": [
    "# Transform outcome for binary eof"
   ]
  },
  {
   "cell_type": "code",
   "execution_count": 19,
   "metadata": {},
   "outputs": [],
   "source": [
    "data_piv.loc[(data_piv.time==1)|(data_piv.time==2), 'DM'] = np.NaN"
   ]
  },
  {
   "cell_type": "code",
   "execution_count": 20,
   "metadata": {},
   "outputs": [],
   "source": [
    "# G-formula"
   ]
  },
  {
   "cell_type": "code",
   "execution_count": 21,
   "metadata": {},
   "outputs": [],
   "source": [
    "time_name = 'time'\n",
    "id = 'NIA'\n",
    "time_points = np.max(np.unique(data_piv[time_name])) + 1"
   ]
  },
  {
   "cell_type": "code",
   "execution_count": 22,
   "metadata": {},
   "outputs": [],
   "source": [
    "covnames = [\n",
    "  'test_res_sp_',\n",
    "  'test_res_smoking_',\n",
    "  'test_res_chol_',\n",
    "  'test_res_abdo_',\n",
    "  'test_res_dp_',\n",
    "  'test_res_imc_',\n",
    "  'test_res_bg_',\n",
    "  'test_res_covid_',\n",
    "  'test_res_gma_',\n",
    "  'Vacuna_']\n",
    "\n",
    "covtypes = [\n",
    "  'normal',\n",
    "  'categorical',\n",
    "  'normal',\n",
    "  'normal',\n",
    "  'normal',\n",
    "  'normal',\n",
    "  'normal',\n",
    "  'categorical',\n",
    "  'truncated normal',\n",
    "  'binary']\n",
    "\n",
    "trunc_params = ['NA', 'NA', 'NA', 'NA', 'NA', 'NA','NA', 'NA', [0, 'left'], 'NA']\n",
    "\n",
    "covmodels = [\n",
    "  'test_res_sp_ ~ lag1_test_res_sp_ + test_res_imc_ + data_naixement + pais_c + C(test_res_smoking_) + test_res_sociostat_1 + time',\n",
    "  'test_res_smoking_ ~ C(lag1_test_res_smoking_) + data_naixement + pais_c + test_res_sociostat_1 + time',\n",
    "  'test_res_chol_ ~ lag1_test_res_chol_ + data_naixement + pais_c + test_res_sociostat_1 + time',\n",
    "  'test_res_abdo_ ~ lag1_test_res_abdo_ + test_res_imc_ +  + data_naixement + pais_c + C(test_res_smoking_) + time',\n",
    "  'test_res_dp_ ~ lag1_test_res_dp_ + test_res_imc_ + data_naixement + pais_c + C(test_res_smoking_) + test_res_sociostat_1 + time',\n",
    "  'test_res_imc_ ~ lag1_test_res_imc_ + data_naixement + pais_c + C(test_res_smoking_) + test_res_sociostat_1 + time',\n",
    "  'test_res_bg_ ~ lag1_test_res_bg_ + test_res_imc_ + data_naixement + pais_c + test_res_sociostat_1 + time',\n",
    "  'test_res_covid_ ~ C(lag1_test_res_covid_) + test_res_imc_ + data_naixement + pais_c + test_res_bg_ + C(test_res_smoking_) + test_res_sociostat_1 + time',\n",
    "  'test_res_gma_ ~ lag1_test_res_gma_ + test_res_imc_ + data_naixement + test_res_dp_ + test_res_sp_ + test_res_chol_ + pais_c + test_res_bg_ + C(test_res_smoking_) + time',\n",
    "  'Vacuna_ ~ lag1_Vacuna_ + time']\n",
    "\n",
    "basecovs = ['abs_c', 'pais_c', 'sexe', 'data_naixement', 'test_res_sociostat_1'] \n",
    "\n",
    "outcome_name = 'DM'\n",
    "ymodel = 'DM ~ abs_c + pais_c + sexe + data_naixement + test_res_sociostat_1 +\\\n",
    "  test_res_sp_ + lag1_test_res_sp_ +\\\n",
    "  C(test_res_smoking_) + C(lag1_test_res_smoking_)+\\\n",
    "  test_res_chol_ + lag1_test_res_chol_+\\\n",
    "  test_res_abdo_ + lag1_test_res_abdo_+\\\n",
    "  test_res_dp_ + lag1_test_res_dp_+\\\n",
    "  test_res_imc_ + lag1_test_res_imc_+\\\n",
    "  test_res_bg_ + lag1_test_res_bg_+\\\n",
    "  C(test_res_covid_) + C(lag1_test_res_covid_)+\\\n",
    "  test_res_gma_ + lag1_test_res_gma_'\n",
    " \n",
    "outcome_type = 'binary_eof'\n",
    "int_descript = ['Never treat', 'Treat on Vacuna only at t1', 'Treat on Vacuna only at t1 & t2', 'Treat on Vacuna at t1, t2 & t3']\n",
    "ymodel_type = None\n",
    "\n",
    "Intervention1_Vacuna = [static, np.zeros(time_points)]\n",
    "Intervention2_Vacuna = [static, np.ones(time_points), [0]]\n",
    "Intervention3_Vacuna = [static, np.ones(time_points), [0, 1]]\n",
    "Intervention4_Vacuna = [static, np.ones(time_points), [0, 1, 2]]"
   ]
  },
  {
   "cell_type": "code",
   "execution_count": 27,
   "metadata": {},
   "outputs": [],
   "source": [
    "float64_cols = list(data_piv.select_dtypes(include='float64'))\n",
    "\n",
    "# The same code again calling the columns\n",
    "data_piv[float64_cols] = data_piv[float64_cols].astype('float32')"
   ]
  },
  {
   "cell_type": "code",
   "execution_count": 29,
   "metadata": {},
   "outputs": [
    {
     "data": {
      "text/plain": [
       "663"
      ]
     },
     "execution_count": 29,
     "metadata": {},
     "output_type": "execute_result"
    }
   ],
   "source": [
    "gc.collect()"
   ]
  },
  {
   "cell_type": "code",
   "execution_count": 25,
   "metadata": {},
   "outputs": [
    {
     "ename": "MemoryError",
     "evalue": "Unable to allocate 498. GiB for an array with shape (3749532, 17823) and data type float64",
     "output_type": "error",
     "traceback": [
      "\u001b[0;31m---------------------------------------------------------------------------\u001b[0m",
      "\u001b[0;31mMemoryError\u001b[0m                               Traceback (most recent call last)",
      "File \u001b[0;32m<timed exec>:14\u001b[0m\n",
      "File \u001b[0;32m~/.conda/envs/python3.10/lib/python3.10/site-packages/pygformula-1.0.3-py3.10.egg/pygformula/parametric_gformula/parametric_gformula.py:490\u001b[0m, in \u001b[0;36mParametricGformula.fit\u001b[0;34m(self)\u001b[0m\n\u001b[1;32m    487\u001b[0m model_fits_summary \u001b[38;5;241m=\u001b[39m {}\n\u001b[1;32m    488\u001b[0m \u001b[38;5;28;01mif\u001b[39;00m \u001b[38;5;28mself\u001b[39m\u001b[38;5;241m.\u001b[39mcovnames \u001b[38;5;129;01mis\u001b[39;00m \u001b[38;5;129;01mnot\u001b[39;00m \u001b[38;5;28;01mNone\u001b[39;00m:\n\u001b[1;32m    489\u001b[0m     covariate_fits, bounds, rmses, cov_model_coeffs, cov_model_stderrs, cov_model_vcovs, cov_model_fits_summary \u001b[38;5;241m=\u001b[39m \\\n\u001b[0;32m--> 490\u001b[0m         \u001b[43mfit_covariate_model\u001b[49m\u001b[43m(\u001b[49m\u001b[43mcovmodels\u001b[49m\u001b[38;5;241;43m=\u001b[39;49m\u001b[38;5;28;43mself\u001b[39;49m\u001b[38;5;241;43m.\u001b[39;49m\u001b[43mcovmodels\u001b[49m\u001b[43m,\u001b[49m\u001b[43m \u001b[49m\u001b[43mcovnames\u001b[49m\u001b[38;5;241;43m=\u001b[39;49m\u001b[38;5;28;43mself\u001b[39;49m\u001b[38;5;241;43m.\u001b[39;49m\u001b[43mcovnames\u001b[49m\u001b[43m,\u001b[49m\u001b[43m \u001b[49m\u001b[43mcovtypes\u001b[49m\u001b[38;5;241;43m=\u001b[39;49m\u001b[38;5;28;43mself\u001b[39;49m\u001b[38;5;241;43m.\u001b[39;49m\u001b[43mcovtypes\u001b[49m\u001b[43m,\u001b[49m\n\u001b[1;32m    491\u001b[0m \u001b[43m                            \u001b[49m\u001b[43mcovfits_custom\u001b[49m\u001b[38;5;241;43m=\u001b[39;49m\u001b[38;5;28;43mself\u001b[39;49m\u001b[38;5;241;43m.\u001b[39;49m\u001b[43mcovfits_custom\u001b[49m\u001b[43m,\u001b[49m\u001b[43m \u001b[49m\u001b[43mtime_name\u001b[49m\u001b[38;5;241;43m=\u001b[39;49m\u001b[38;5;28;43mself\u001b[39;49m\u001b[38;5;241;43m.\u001b[39;49m\u001b[43mtime_name\u001b[49m\u001b[43m,\u001b[49m\u001b[43m \u001b[49m\u001b[43mobs_data\u001b[49m\u001b[38;5;241;43m=\u001b[39;49m\u001b[38;5;28;43mself\u001b[39;49m\u001b[38;5;241;43m.\u001b[39;49m\u001b[43mobs_data\u001b[49m\u001b[43m,\u001b[49m\n\u001b[1;32m    492\u001b[0m \u001b[43m                            \u001b[49m\u001b[43mreturn_fits\u001b[49m\u001b[38;5;241;43m=\u001b[39;49m\u001b[38;5;28;43mself\u001b[39;49m\u001b[38;5;241;43m.\u001b[39;49m\u001b[43mmodel_fits\u001b[49m\u001b[43m,\u001b[49m\u001b[43m \u001b[49m\u001b[43mtrunc_params\u001b[49m\u001b[38;5;241;43m=\u001b[39;49m\u001b[38;5;28;43mself\u001b[39;49m\u001b[38;5;241;43m.\u001b[39;49m\u001b[43mtrunc_params\u001b[49m\u001b[43m,\u001b[49m\u001b[43m \u001b[49m\u001b[43mvisit_names\u001b[49m\u001b[38;5;241;43m=\u001b[39;49m\u001b[38;5;28;43mself\u001b[39;49m\u001b[38;5;241;43m.\u001b[39;49m\u001b[43mvisit_names\u001b[49m\u001b[43m,\u001b[49m\n\u001b[1;32m    493\u001b[0m \u001b[43m                            \u001b[49m\u001b[43mmax_visits\u001b[49m\u001b[38;5;241;43m=\u001b[39;49m\u001b[38;5;28;43mself\u001b[39;49m\u001b[38;5;241;43m.\u001b[39;49m\u001b[43mmax_visits\u001b[49m\u001b[43m,\u001b[49m\u001b[43m \u001b[49m\u001b[43mts_visit_names\u001b[49m\u001b[38;5;241;43m=\u001b[39;49m\u001b[38;5;28;43mself\u001b[39;49m\u001b[38;5;241;43m.\u001b[39;49m\u001b[43mts_visit_names\u001b[49m\u001b[43m,\u001b[49m\n\u001b[1;32m    494\u001b[0m \u001b[43m                            \u001b[49m\u001b[43mvisit_covs\u001b[49m\u001b[38;5;241;43m=\u001b[39;49m\u001b[38;5;28;43mself\u001b[39;49m\u001b[38;5;241;43m.\u001b[39;49m\u001b[43mvisit_covs\u001b[49m\u001b[43m,\u001b[49m\u001b[43m \u001b[49m\u001b[43mrestrictions\u001b[49m\u001b[38;5;241;43m=\u001b[39;49m\u001b[38;5;28;43mself\u001b[39;49m\u001b[38;5;241;43m.\u001b[39;49m\u001b[43mrestrictions\u001b[49m\u001b[43m)\u001b[49m\n\u001b[1;32m    495\u001b[0m     model_coeffs\u001b[38;5;241m.\u001b[39mupdate(cov_model_coeffs)\n\u001b[1;32m    496\u001b[0m     model_stderrs\u001b[38;5;241m.\u001b[39mupdate(cov_model_stderrs)\n",
      "File \u001b[0;32m~/.conda/envs/python3.10/lib/python3.10/site-packages/pygformula-1.0.3-py3.10.egg/pygformula/parametric_gformula/fit.py:148\u001b[0m, in \u001b[0;36mfit_covariate_model\u001b[0;34m(covmodels, covnames, covtypes, covfits_custom, time_name, obs_data, return_fits, trunc_params, visit_names, max_visits, ts_visit_names, visit_covs, restrictions)\u001b[0m\n\u001b[1;32m    146\u001b[0m max_cov \u001b[38;5;241m=\u001b[39m fit_data[cov]\u001b[38;5;241m.\u001b[39mmax()\n\u001b[1;32m    147\u001b[0m bound \u001b[38;5;241m=\u001b[39m [min_cov, max_cov]\n\u001b[0;32m--> 148\u001b[0m fit \u001b[38;5;241m=\u001b[39m \u001b[43msmf\u001b[49m\u001b[38;5;241;43m.\u001b[39;49m\u001b[43mglm\u001b[49m\u001b[43m(\u001b[49m\u001b[43mcovmodels\u001b[49m\u001b[43m[\u001b[49m\u001b[43mk\u001b[49m\u001b[43m]\u001b[49m\u001b[43m,\u001b[49m\u001b[43m \u001b[49m\u001b[43mdata\u001b[49m\u001b[38;5;241;43m=\u001b[39;49m\u001b[43mfit_data\u001b[49m\u001b[43m,\u001b[49m\u001b[43m \u001b[49m\u001b[43mfamily\u001b[49m\u001b[38;5;241;43m=\u001b[39;49m\u001b[43msm\u001b[49m\u001b[38;5;241;43m.\u001b[39;49m\u001b[43mfamilies\u001b[49m\u001b[38;5;241;43m.\u001b[39;49m\u001b[43mGaussian\u001b[49m\u001b[43m(\u001b[49m\u001b[43m)\u001b[49m\u001b[43m)\u001b[49m\u001b[38;5;241m.\u001b[39mfit()\n\u001b[1;32m    149\u001b[0m rmse \u001b[38;5;241m=\u001b[39m np\u001b[38;5;241m.\u001b[39msqrt(np\u001b[38;5;241m.\u001b[39mmean((fit\u001b[38;5;241m.\u001b[39mpredict() \u001b[38;5;241m-\u001b[39m fit_data[cov]) \u001b[38;5;241m*\u001b[39m\u001b[38;5;241m*\u001b[39m \u001b[38;5;241m2\u001b[39m))\n\u001b[1;32m    150\u001b[0m bounds[cov] \u001b[38;5;241m=\u001b[39m bound\n",
      "File \u001b[0;32m~/.conda/envs/python3.10/lib/python3.10/site-packages/statsmodels/base/model.py:203\u001b[0m, in \u001b[0;36mModel.from_formula\u001b[0;34m(cls, formula, data, subset, drop_cols, *args, **kwargs)\u001b[0m\n\u001b[1;32m    200\u001b[0m \u001b[38;5;28;01mif\u001b[39;00m missing \u001b[38;5;241m==\u001b[39m \u001b[38;5;124m'\u001b[39m\u001b[38;5;124mnone\u001b[39m\u001b[38;5;124m'\u001b[39m:  \u001b[38;5;66;03m# with patsy it's drop or raise. let's raise.\u001b[39;00m\n\u001b[1;32m    201\u001b[0m     missing \u001b[38;5;241m=\u001b[39m \u001b[38;5;124m'\u001b[39m\u001b[38;5;124mraise\u001b[39m\u001b[38;5;124m'\u001b[39m\n\u001b[0;32m--> 203\u001b[0m tmp \u001b[38;5;241m=\u001b[39m \u001b[43mhandle_formula_data\u001b[49m\u001b[43m(\u001b[49m\u001b[43mdata\u001b[49m\u001b[43m,\u001b[49m\u001b[43m \u001b[49m\u001b[38;5;28;43;01mNone\u001b[39;49;00m\u001b[43m,\u001b[49m\u001b[43m \u001b[49m\u001b[43mformula\u001b[49m\u001b[43m,\u001b[49m\u001b[43m \u001b[49m\u001b[43mdepth\u001b[49m\u001b[38;5;241;43m=\u001b[39;49m\u001b[43meval_env\u001b[49m\u001b[43m,\u001b[49m\n\u001b[1;32m    204\u001b[0m \u001b[43m                          \u001b[49m\u001b[43mmissing\u001b[49m\u001b[38;5;241;43m=\u001b[39;49m\u001b[43mmissing\u001b[49m\u001b[43m)\u001b[49m\n\u001b[1;32m    205\u001b[0m ((endog, exog), missing_idx, design_info) \u001b[38;5;241m=\u001b[39m tmp\n\u001b[1;32m    206\u001b[0m max_endog \u001b[38;5;241m=\u001b[39m \u001b[38;5;28mcls\u001b[39m\u001b[38;5;241m.\u001b[39m_formula_max_endog\n",
      "File \u001b[0;32m~/.conda/envs/python3.10/lib/python3.10/site-packages/statsmodels/formula/formulatools.py:63\u001b[0m, in \u001b[0;36mhandle_formula_data\u001b[0;34m(Y, X, formula, depth, missing)\u001b[0m\n\u001b[1;32m     61\u001b[0m \u001b[38;5;28;01melse\u001b[39;00m:\n\u001b[1;32m     62\u001b[0m     \u001b[38;5;28;01mif\u001b[39;00m data_util\u001b[38;5;241m.\u001b[39m_is_using_pandas(Y, \u001b[38;5;28;01mNone\u001b[39;00m):\n\u001b[0;32m---> 63\u001b[0m         result \u001b[38;5;241m=\u001b[39m \u001b[43mdmatrices\u001b[49m\u001b[43m(\u001b[49m\u001b[43mformula\u001b[49m\u001b[43m,\u001b[49m\u001b[43m \u001b[49m\u001b[43mY\u001b[49m\u001b[43m,\u001b[49m\u001b[43m \u001b[49m\u001b[43mdepth\u001b[49m\u001b[43m,\u001b[49m\u001b[43m \u001b[49m\u001b[43mreturn_type\u001b[49m\u001b[38;5;241;43m=\u001b[39;49m\u001b[38;5;124;43m'\u001b[39;49m\u001b[38;5;124;43mdataframe\u001b[39;49m\u001b[38;5;124;43m'\u001b[39;49m\u001b[43m,\u001b[49m\n\u001b[1;32m     64\u001b[0m \u001b[43m                           \u001b[49m\u001b[43mNA_action\u001b[49m\u001b[38;5;241;43m=\u001b[39;49m\u001b[43mna_action\u001b[49m\u001b[43m)\u001b[49m\n\u001b[1;32m     65\u001b[0m     \u001b[38;5;28;01melse\u001b[39;00m:\n\u001b[1;32m     66\u001b[0m         result \u001b[38;5;241m=\u001b[39m dmatrices(formula, Y, depth, return_type\u001b[38;5;241m=\u001b[39m\u001b[38;5;124m'\u001b[39m\u001b[38;5;124mdataframe\u001b[39m\u001b[38;5;124m'\u001b[39m,\n\u001b[1;32m     67\u001b[0m                            NA_action\u001b[38;5;241m=\u001b[39mna_action)\n",
      "File \u001b[0;32m~/.conda/envs/python3.10/lib/python3.10/site-packages/patsy/highlevel.py:309\u001b[0m, in \u001b[0;36mdmatrices\u001b[0;34m(formula_like, data, eval_env, NA_action, return_type)\u001b[0m\n\u001b[1;32m    299\u001b[0m \u001b[38;5;250m\u001b[39m\u001b[38;5;124;03m\"\"\"Construct two design matrices given a formula_like and data.\u001b[39;00m\n\u001b[1;32m    300\u001b[0m \n\u001b[1;32m    301\u001b[0m \u001b[38;5;124;03mThis function is identical to :func:`dmatrix`, except that it requires\u001b[39;00m\n\u001b[0;32m   (...)\u001b[0m\n\u001b[1;32m    306\u001b[0m \u001b[38;5;124;03mSee :func:`dmatrix` for details.\u001b[39;00m\n\u001b[1;32m    307\u001b[0m \u001b[38;5;124;03m\"\"\"\u001b[39;00m\n\u001b[1;32m    308\u001b[0m eval_env \u001b[38;5;241m=\u001b[39m EvalEnvironment\u001b[38;5;241m.\u001b[39mcapture(eval_env, reference\u001b[38;5;241m=\u001b[39m\u001b[38;5;241m1\u001b[39m)\n\u001b[0;32m--> 309\u001b[0m (lhs, rhs) \u001b[38;5;241m=\u001b[39m \u001b[43m_do_highlevel_design\u001b[49m\u001b[43m(\u001b[49m\u001b[43mformula_like\u001b[49m\u001b[43m,\u001b[49m\u001b[43m \u001b[49m\u001b[43mdata\u001b[49m\u001b[43m,\u001b[49m\u001b[43m \u001b[49m\u001b[43meval_env\u001b[49m\u001b[43m,\u001b[49m\n\u001b[1;32m    310\u001b[0m \u001b[43m                                  \u001b[49m\u001b[43mNA_action\u001b[49m\u001b[43m,\u001b[49m\u001b[43m \u001b[49m\u001b[43mreturn_type\u001b[49m\u001b[43m)\u001b[49m\n\u001b[1;32m    311\u001b[0m \u001b[38;5;28;01mif\u001b[39;00m lhs\u001b[38;5;241m.\u001b[39mshape[\u001b[38;5;241m1\u001b[39m] \u001b[38;5;241m==\u001b[39m \u001b[38;5;241m0\u001b[39m:\n\u001b[1;32m    312\u001b[0m     \u001b[38;5;28;01mraise\u001b[39;00m PatsyError(\u001b[38;5;124m\"\u001b[39m\u001b[38;5;124mmodel is missing required outcome variables\u001b[39m\u001b[38;5;124m\"\u001b[39m)\n",
      "File \u001b[0;32m~/.conda/envs/python3.10/lib/python3.10/site-packages/patsy/highlevel.py:167\u001b[0m, in \u001b[0;36m_do_highlevel_design\u001b[0;34m(formula_like, data, eval_env, NA_action, return_type)\u001b[0m\n\u001b[1;32m    164\u001b[0m design_infos \u001b[38;5;241m=\u001b[39m _try_incr_builders(formula_like, data_iter_maker, eval_env,\n\u001b[1;32m    165\u001b[0m                                   NA_action)\n\u001b[1;32m    166\u001b[0m \u001b[38;5;28;01mif\u001b[39;00m design_infos \u001b[38;5;129;01mis\u001b[39;00m \u001b[38;5;129;01mnot\u001b[39;00m \u001b[38;5;28;01mNone\u001b[39;00m:\n\u001b[0;32m--> 167\u001b[0m     \u001b[38;5;28;01mreturn\u001b[39;00m \u001b[43mbuild_design_matrices\u001b[49m\u001b[43m(\u001b[49m\u001b[43mdesign_infos\u001b[49m\u001b[43m,\u001b[49m\u001b[43m \u001b[49m\u001b[43mdata\u001b[49m\u001b[43m,\u001b[49m\n\u001b[1;32m    168\u001b[0m \u001b[43m                                 \u001b[49m\u001b[43mNA_action\u001b[49m\u001b[38;5;241;43m=\u001b[39;49m\u001b[43mNA_action\u001b[49m\u001b[43m,\u001b[49m\n\u001b[1;32m    169\u001b[0m \u001b[43m                                 \u001b[49m\u001b[43mreturn_type\u001b[49m\u001b[38;5;241;43m=\u001b[39;49m\u001b[43mreturn_type\u001b[49m\u001b[43m)\u001b[49m\n\u001b[1;32m    170\u001b[0m \u001b[38;5;28;01melse\u001b[39;00m:\n\u001b[1;32m    171\u001b[0m     \u001b[38;5;66;03m# No builders, but maybe we can still get matrices\u001b[39;00m\n\u001b[1;32m    172\u001b[0m     \u001b[38;5;28;01mif\u001b[39;00m \u001b[38;5;28misinstance\u001b[39m(formula_like, \u001b[38;5;28mtuple\u001b[39m):\n",
      "File \u001b[0;32m~/.conda/envs/python3.10/lib/python3.10/site-packages/patsy/build.py:931\u001b[0m, in \u001b[0;36mbuild_design_matrices\u001b[0;34m(design_infos, data, NA_action, return_type, dtype)\u001b[0m\n\u001b[1;32m    929\u001b[0m results \u001b[38;5;241m=\u001b[39m []\n\u001b[1;32m    930\u001b[0m \u001b[38;5;28;01mfor\u001b[39;00m design_info \u001b[38;5;129;01min\u001b[39;00m design_infos:\n\u001b[0;32m--> 931\u001b[0m     results\u001b[38;5;241m.\u001b[39mappend(\u001b[43m_build_design_matrix\u001b[49m\u001b[43m(\u001b[49m\u001b[43mdesign_info\u001b[49m\u001b[43m,\u001b[49m\n\u001b[1;32m    932\u001b[0m \u001b[43m                                        \u001b[49m\u001b[43mfactor_info_to_values\u001b[49m\u001b[43m,\u001b[49m\n\u001b[1;32m    933\u001b[0m \u001b[43m                                        \u001b[49m\u001b[43mdtype\u001b[49m\u001b[43m)\u001b[49m)\n\u001b[1;32m    934\u001b[0m matrices \u001b[38;5;241m=\u001b[39m []\n\u001b[1;32m    935\u001b[0m \u001b[38;5;28;01mfor\u001b[39;00m need_reshape, matrix \u001b[38;5;129;01min\u001b[39;00m results:\n",
      "File \u001b[0;32m~/.conda/envs/python3.10/lib/python3.10/site-packages/patsy/build.py:762\u001b[0m, in \u001b[0;36m_build_design_matrix\u001b[0;34m(design_info, factor_info_to_values, dtype)\u001b[0m\n\u001b[1;32m    760\u001b[0m     need_reshape \u001b[38;5;241m=\u001b[39m \u001b[38;5;28;01mTrue\u001b[39;00m\n\u001b[1;32m    761\u001b[0m shape \u001b[38;5;241m=\u001b[39m (num_rows, \u001b[38;5;28mlen\u001b[39m(design_info\u001b[38;5;241m.\u001b[39mcolumn_names))\n\u001b[0;32m--> 762\u001b[0m m \u001b[38;5;241m=\u001b[39m DesignMatrix(\u001b[43mnp\u001b[49m\u001b[38;5;241;43m.\u001b[39;49m\u001b[43mempty\u001b[49m\u001b[43m(\u001b[49m\u001b[43mshape\u001b[49m\u001b[43m,\u001b[49m\u001b[43m \u001b[49m\u001b[43mdtype\u001b[49m\u001b[38;5;241;43m=\u001b[39;49m\u001b[43mdtype\u001b[49m\u001b[43m)\u001b[49m, design_info)\n\u001b[1;32m    763\u001b[0m start_column \u001b[38;5;241m=\u001b[39m \u001b[38;5;241m0\u001b[39m\n\u001b[1;32m    764\u001b[0m \u001b[38;5;28;01mfor\u001b[39;00m term, subterms \u001b[38;5;129;01min\u001b[39;00m six\u001b[38;5;241m.\u001b[39miteritems(design_info\u001b[38;5;241m.\u001b[39mterm_codings):\n",
      "\u001b[0;31mMemoryError\u001b[0m: Unable to allocate 498. GiB for an array with shape (3749532, 17823) and data type float64"
     ]
    }
   ],
   "source": [
    "%%capture cap\n",
    "%%time\n",
    "print('********************************************************************')\n",
    "g = ParametricGformula(obs_data = data_piv, id = id, time_name=time_name,\n",
    "             time_points = time_points, int_descript = int_descript,\n",
    "             covnames=covnames, covtypes=covtypes, trunc_params=trunc_params,\n",
    "             covmodels=covmodels, basecovs=basecovs,\n",
    "             outcome_name=outcome_name, ymodel=ymodel, ymodel_type=ymodel_type, outcome_type=outcome_type,\n",
    "             Intervention1_Vacuna = Intervention1_Vacuna,\n",
    "             Intervention2_Vacuna = Intervention2_Vacuna,\n",
    "             Intervention3_Vacuna = Intervention3_Vacuna,\n",
    "             Intervention4_Vacuna = Intervention4_Vacuna,\n",
    "             parallel=True, ncores=18)\n",
    "\n",
    "\n",
    "g.fit()\n",
    "print('********************************************************************')"
   ]
  },
  {
   "cell_type": "code",
   "execution_count": 26,
   "metadata": {},
   "outputs": [],
   "source": [
    "# Save the captured output to a text file\n",
    "with open('output.txt', 'a') as file:\n",
    "    file.write(cap.stdout)"
   ]
  },
  {
   "cell_type": "code",
   "execution_count": 27,
   "metadata": {},
   "outputs": [],
   "source": [
    "# Serialize the object to a binary format\n",
    "with open('gform.pkl', 'wb') as file:\n",
    "    pickle.dump(g, file)"
   ]
  },
  {
   "cell_type": "code",
   "execution_count": 10,
   "metadata": {},
   "outputs": [],
   "source": [
    "# Deserialize the object from the binary file\n",
    "#with open('gform.pkl', 'rb') as file:\n",
    "#    g = pickle.load(file)"
   ]
  },
  {
   "cell_type": "markdown",
   "metadata": {},
   "source": [
    "### Notes:\n",
    "- Time has to start at 0, otherwise we get errors of type \"operands of shape () could not be broadcast together\"\n",
    "- No NaNs in the covariates, otherwise we get errors of type \"operands of shape () could not be broadcast together\""
   ]
  },
  {
   "cell_type": "markdown",
   "metadata": {},
   "source": [
    "### Full version with real data"
   ]
  },
  {
   "cell_type": "code",
   "execution_count": null,
   "metadata": {},
   "outputs": [],
   "source": []
  },
  {
   "cell_type": "code",
   "execution_count": null,
   "metadata": {},
   "outputs": [],
   "source": []
  },
  {
   "cell_type": "code",
   "execution_count": null,
   "metadata": {},
   "outputs": [],
   "source": [
    "### Investigate other intervention options (grace period etc.)"
   ]
  },
  {
   "cell_type": "code",
   "execution_count": null,
   "metadata": {},
   "outputs": [],
   "source": []
  },
  {
   "cell_type": "code",
   "execution_count": null,
   "metadata": {},
   "outputs": [],
   "source": []
  },
  {
   "cell_type": "code",
   "execution_count": null,
   "metadata": {},
   "outputs": [],
   "source": [
    "### Investigate possibility of using ML model"
   ]
  },
  {
   "cell_type": "code",
   "execution_count": null,
   "metadata": {},
   "outputs": [],
   "source": []
  },
  {
   "cell_type": "code",
   "execution_count": null,
   "metadata": {},
   "outputs": [],
   "source": []
  },
  {
   "cell_type": "code",
   "execution_count": null,
   "metadata": {},
   "outputs": [],
   "source": []
  }
 ],
 "metadata": {
  "kernelspec": {
   "display_name": "python3.10",
   "language": "python",
   "name": "python3.10"
  },
  "language_info": {
   "codemirror_mode": {
    "name": "ipython",
    "version": 3
   },
   "file_extension": ".py",
   "mimetype": "text/x-python",
   "name": "python",
   "nbconvert_exporter": "python",
   "pygments_lexer": "ipython3",
   "version": "3.10.14"
  }
 },
 "nbformat": 4,
 "nbformat_minor": 4
}
