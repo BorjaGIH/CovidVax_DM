{
 "cells": [
  {
   "cell_type": "code",
   "execution_count": 1,
   "metadata": {
    "tags": []
   },
   "outputs": [],
   "source": [
    "import numpy as np\n",
    "import os\n",
    "import pandas as pd\n",
    "from pygformula import ParametricGformula\n",
    "from pygformula.parametric_gformula.interventions import static\n",
    "from pygformula.data import load_basicdata_nocomp\n",
    "from IPython import get_ipython"
   ]
  },
  {
   "cell_type": "markdown",
   "metadata": {},
   "source": [
    "### Toy example with real data"
   ]
  },
  {
   "cell_type": "code",
   "execution_count": 2,
   "metadata": {
    "tags": []
   },
   "outputs": [],
   "source": [
    "data = pd.read_csv('included_cohort_sample_prep.csv')"
   ]
  },
  {
   "cell_type": "code",
   "execution_count": 3,
   "metadata": {
    "tags": []
   },
   "outputs": [],
   "source": [
    "data.drop(['Unnamed: 0'], inplace=True, axis=1)"
   ]
  },
  {
   "cell_type": "code",
   "execution_count": 4,
   "metadata": {
    "tags": []
   },
   "outputs": [],
   "source": [
    "data = data.sample(frac=0.1, random_state=1).copy()"
   ]
  },
  {
   "cell_type": "code",
   "execution_count": 5,
   "metadata": {
    "tags": []
   },
   "outputs": [],
   "source": [
    "data.sexe = data.sexe.map({'H':0, 'D':1})"
   ]
  },
  {
   "cell_type": "code",
   "execution_count": 6,
   "metadata": {
    "tags": []
   },
   "outputs": [
    {
     "data": {
      "text/plain": [
       "37495"
      ]
     },
     "execution_count": 6,
     "metadata": {},
     "output_type": "execute_result"
    }
   ],
   "source": [
    "len(data)"
   ]
  },
  {
   "cell_type": "code",
   "execution_count": 7,
   "metadata": {
    "tags": []
   },
   "outputs": [
    {
     "data": {
      "text/plain": [
       "Index(['NIA', 'sexe', 'data_naixement', 'abs_c', 'abs', 'pais_c',\n",
       "       'N_vaccine_total', 'VACUNA_1_DATA', 'VACUNA_1_MOTIU', 'VACUNA_2_DATA',\n",
       "       'VACUNA_2_MOTIU', 'VACUNA_3_DATA', 'VACUNA_3_MOTIU', 'VACUNA_1_DATA_pp',\n",
       "       'VACUNA_2_DATA_pp', 'VACUNA_3_DATA_pp', 'DATA_DM_min', 'DM',\n",
       "       'covid_bef_vax', 'test_date_covid_1', 'test_res_covid_1',\n",
       "       'test_date_covid_2', 'test_res_covid_2', 'test_date_covid_3',\n",
       "       'test_res_covid_3', 'test_date_imc_1', 'test_res_imc_1',\n",
       "       'test_date_imc_2', 'test_res_imc_2', 'test_date_imc_3',\n",
       "       'test_res_imc_3', 'test_date_sp_1', 'test_res_sp_1', 'test_date_sp_2',\n",
       "       'test_res_sp_2', 'test_date_sp_3', 'test_res_sp_3', 'test_date_dp_1',\n",
       "       'test_res_dp_1', 'test_date_dp_2', 'test_res_dp_2', 'test_date_dp_3',\n",
       "       'test_res_dp_3', 'test_date_abdo_1', 'test_res_abdo_1',\n",
       "       'test_date_abdo_2', 'test_res_abdo_2', 'test_date_abdo_3',\n",
       "       'test_res_abdo_3', 'test_date_bg_1', 'test_res_bg_1', 'test_date_bg_2',\n",
       "       'test_res_bg_2', 'test_date_bg_3', 'test_res_bg_3', 'test_date_chol_1',\n",
       "       'test_res_chol_1', 'test_date_chol_2', 'test_res_chol_2',\n",
       "       'test_date_chol_3', 'test_res_chol_3', 'test_date_smoking_1',\n",
       "       'test_res_smoking_1', 'test_date_smoking_2', 'test_res_smoking_2',\n",
       "       'test_date_smoking_3', 'test_res_smoking_3', 'test_date_gma_1',\n",
       "       'test_res_gma_1', 'test_date_gma_2', 'test_res_gma_2',\n",
       "       'test_date_gma_3', 'test_res_gma_3', 'test_date_sociostat_1',\n",
       "       'test_res_sociostat_1', 'test_date_sociostat_2', 'test_res_sociostat_2',\n",
       "       'test_date_sociostat_3', 'test_res_sociostat_3', 'age_1', 'age_2',\n",
       "       'age_3', 'idabs', 'ISC reescalat', 'Vacuna_1', 'Vacuna_2', 'Vacuna_3'],\n",
       "      dtype='object')"
      ]
     },
     "execution_count": 7,
     "metadata": {},
     "output_type": "execute_result"
    }
   ],
   "source": [
    "data.columns"
   ]
  },
  {
   "cell_type": "code",
   "execution_count": 8,
   "metadata": {
    "tags": []
   },
   "outputs": [],
   "source": [
    "###### CAMBIAR FORMATO DE LOS DATOS (PIVOT) "
   ]
  },
  {
   "cell_type": "code",
   "execution_count": 9,
   "metadata": {
    "tags": []
   },
   "outputs": [
    {
     "name": "stdout",
     "output_type": "stream",
     "text": [
      "1\n",
      "2\n",
      "3\n"
     ]
    }
   ],
   "source": [
    "for i in range(1,4):\n",
    "    print(i)\n",
    "    data.rename({'VACUNA_{}_DATA'.format(i): 'VACUNA_DATA_{}'.format(i)}, axis=1, inplace=True)\n",
    "    data.rename({'VACUNA_{}_MOTIU'.format(i): 'VACUNA_MOTIU_{}'.format(i)}, axis=1, inplace=True)\n",
    "    data.rename({'VACUNA_{}_DATA_pp'.format(i): 'VACUNA_DATA_pp_{}'.format(i)}, axis=1, inplace=True)"
   ]
  },
  {
   "cell_type": "code",
   "execution_count": 10,
   "metadata": {
    "tags": []
   },
   "outputs": [],
   "source": [
    "stubnames = ['VACUNA_DATA_1', 'VACUNA_MOTIU_1', 'VACUNA_DATA_2',\n",
    "'VACUNA_MOTIU_2', 'VACUNA_DATA_3', 'VACUNA_MOTIU_3', 'VACUNA_DATA_pp_1',\n",
    "'VACUNA_DATA_pp_2', 'VACUNA_DATA_pp_3', \n",
    "'test_date_covid_1', 'test_res_covid_1',\n",
    "'test_date_covid_2', 'test_res_covid_2', 'test_date_covid_3',\n",
    "'test_res_covid_3', 'test_date_imc_1', 'test_res_imc_1',\n",
    "'test_date_imc_2', 'test_res_imc_2', 'test_date_imc_3',\n",
    "'test_res_imc_3', 'test_date_sp_1', 'test_res_sp_1', 'test_date_sp_2',\n",
    "'test_res_sp_2', 'test_date_sp_3', 'test_res_sp_3', 'test_date_dp_1',\n",
    "'test_res_dp_1', 'test_date_dp_2', 'test_res_dp_2', 'test_date_dp_3',\n",
    "'test_res_dp_3', 'test_date_abdo_1', 'test_res_abdo_1',\n",
    "'test_date_abdo_2', 'test_res_abdo_2', 'test_date_abdo_3',\n",
    "'test_res_abdo_3', 'test_date_bg_1', 'test_res_bg_1', 'test_date_bg_2',\n",
    "'test_res_bg_2', 'test_date_bg_3', 'test_res_bg_3', 'test_date_chol_1',\n",
    "'test_res_chol_1', 'test_date_chol_2', 'test_res_chol_2',\n",
    "'test_date_chol_3', 'test_res_chol_3', 'test_date_smoking_1',\n",
    "'test_res_smoking_1', 'test_date_smoking_2', 'test_res_smoking_2',\n",
    "'test_date_smoking_3', 'test_res_smoking_3', 'test_date_gma_1',\n",
    "'test_res_gma_1', 'test_date_gma_2', 'test_res_gma_2',\n",
    "'test_date_gma_3', 'test_res_gma_3',  'Vacuna_1', 'Vacuna_2', 'Vacuna_3'] \n",
    "\n",
    "# 'test_date_sociostat_1',\n",
    "# 'test_res_sociostat_1', 'test_date_sociostat_2', 'test_res_sociostat_2',\n",
    "# 'test_date_sociostat_3', 'test_res_sociostat_3',"
   ]
  },
  {
   "cell_type": "code",
   "execution_count": 11,
   "metadata": {
    "tags": []
   },
   "outputs": [],
   "source": [
    "for i in range(0,len(stubnames)):\n",
    "    stubnames[i] = stubnames[i][0:-1]"
   ]
  },
  {
   "cell_type": "code",
   "execution_count": 13,
   "metadata": {
    "tags": []
   },
   "outputs": [],
   "source": [
    "data_piv = pd.wide_to_long(data, list(set(stubnames)), i='NIA', j='time')\n",
    "data_piv.reset_index(inplace=True, drop=False)"
   ]
  },
  {
   "cell_type": "code",
   "execution_count": 13,
   "metadata": {
    "tags": []
   },
   "outputs": [],
   "source": [
    "data_piv.rename({'Vacuna_':'Vacuna'}, axis=1, inplace=True)"
   ]
  },
  {
   "cell_type": "code",
   "execution_count": 14,
   "metadata": {
    "tags": []
   },
   "outputs": [],
   "source": [
    "data_piv.time = data_piv.time - 1"
   ]
  },
  {
   "cell_type": "code",
   "execution_count": 26,
   "metadata": {
    "tags": []
   },
   "outputs": [
    {
     "data": {
      "text/plain": [
       "Index(['NIA', 'time', 'DATA_DM_min', 'DM', 'ISC reescalat', 'N_vaccine_total',\n",
       "       'abs', 'abs_c', 'age_1', 'age_2', 'age_3', 'covid_bef_vax',\n",
       "       'data_naixement', 'idabs', 'pais_c', 'sexe', 'test_date_sociostat_1',\n",
       "       'test_date_sociostat_2', 'test_date_sociostat_3',\n",
       "       'test_res_sociostat_1', 'test_res_sociostat_2', 'test_res_sociostat_3',\n",
       "       'test_res_sp_', 'test_date_smoking_', 'test_res_smoking_',\n",
       "       'test_date_bg_', 'test_date_chol_', 'test_res_chol_', 'VACUNA_DATA_pp_',\n",
       "       'test_res_gma_', 'test_date_imc_', 'test_date_abdo_',\n",
       "       'test_date_covid_', 'test_res_bg_', 'test_res_abdo_', 'VACUNA_MOTIU_',\n",
       "       'test_date_sp_', 'Vacuna', 'test_res_dp_', 'VACUNA_DATA_',\n",
       "       'test_res_imc_', 'test_date_gma_', 'test_res_covid_', 'test_date_dp_'],\n",
       "      dtype='object')"
      ]
     },
     "execution_count": 26,
     "metadata": {},
     "output_type": "execute_result"
    }
   ],
   "source": [
    "data_piv.columns"
   ]
  },
  {
   "cell_type": "code",
   "execution_count": 31,
   "metadata": {
    "tags": []
   },
   "outputs": [
    {
     "data": {
      "text/html": [
       "<div>\n",
       "<style scoped>\n",
       "    .dataframe tbody tr th:only-of-type {\n",
       "        vertical-align: middle;\n",
       "    }\n",
       "\n",
       "    .dataframe tbody tr th {\n",
       "        vertical-align: top;\n",
       "    }\n",
       "\n",
       "    .dataframe thead th {\n",
       "        text-align: right;\n",
       "    }\n",
       "</style>\n",
       "<table border=\"1\" class=\"dataframe\">\n",
       "  <thead>\n",
       "    <tr style=\"text-align: right;\">\n",
       "      <th></th>\n",
       "      <th>NIA</th>\n",
       "      <th>time</th>\n",
       "      <th>N_vaccine_total</th>\n",
       "      <th>Vacuna</th>\n",
       "    </tr>\n",
       "  </thead>\n",
       "  <tbody>\n",
       "    <tr>\n",
       "      <th>33429</th>\n",
       "      <td>352</td>\n",
       "      <td>0</td>\n",
       "      <td>3</td>\n",
       "      <td>1.0</td>\n",
       "    </tr>\n",
       "    <tr>\n",
       "      <th>70924</th>\n",
       "      <td>352</td>\n",
       "      <td>1</td>\n",
       "      <td>3</td>\n",
       "      <td>1.0</td>\n",
       "    </tr>\n",
       "    <tr>\n",
       "      <th>108419</th>\n",
       "      <td>352</td>\n",
       "      <td>2</td>\n",
       "      <td>3</td>\n",
       "      <td>1.0</td>\n",
       "    </tr>\n",
       "    <tr>\n",
       "      <th>34660</th>\n",
       "      <td>633</td>\n",
       "      <td>0</td>\n",
       "      <td>3</td>\n",
       "      <td>1.0</td>\n",
       "    </tr>\n",
       "    <tr>\n",
       "      <th>72155</th>\n",
       "      <td>633</td>\n",
       "      <td>1</td>\n",
       "      <td>3</td>\n",
       "      <td>1.0</td>\n",
       "    </tr>\n",
       "    <tr>\n",
       "      <th>109650</th>\n",
       "      <td>633</td>\n",
       "      <td>2</td>\n",
       "      <td>3</td>\n",
       "      <td>1.0</td>\n",
       "    </tr>\n",
       "    <tr>\n",
       "      <th>18667</th>\n",
       "      <td>637</td>\n",
       "      <td>0</td>\n",
       "      <td>3</td>\n",
       "      <td>1.0</td>\n",
       "    </tr>\n",
       "    <tr>\n",
       "      <th>56162</th>\n",
       "      <td>637</td>\n",
       "      <td>1</td>\n",
       "      <td>3</td>\n",
       "      <td>1.0</td>\n",
       "    </tr>\n",
       "    <tr>\n",
       "      <th>93657</th>\n",
       "      <td>637</td>\n",
       "      <td>2</td>\n",
       "      <td>3</td>\n",
       "      <td>1.0</td>\n",
       "    </tr>\n",
       "    <tr>\n",
       "      <th>29183</th>\n",
       "      <td>1018</td>\n",
       "      <td>0</td>\n",
       "      <td>2</td>\n",
       "      <td>1.0</td>\n",
       "    </tr>\n",
       "    <tr>\n",
       "      <th>66678</th>\n",
       "      <td>1018</td>\n",
       "      <td>1</td>\n",
       "      <td>2</td>\n",
       "      <td>1.0</td>\n",
       "    </tr>\n",
       "    <tr>\n",
       "      <th>104173</th>\n",
       "      <td>1018</td>\n",
       "      <td>2</td>\n",
       "      <td>2</td>\n",
       "      <td>0.0</td>\n",
       "    </tr>\n",
       "    <tr>\n",
       "      <th>33399</th>\n",
       "      <td>2004</td>\n",
       "      <td>0</td>\n",
       "      <td>0</td>\n",
       "      <td>0.0</td>\n",
       "    </tr>\n",
       "    <tr>\n",
       "      <th>70894</th>\n",
       "      <td>2004</td>\n",
       "      <td>1</td>\n",
       "      <td>0</td>\n",
       "      <td>0.0</td>\n",
       "    </tr>\n",
       "    <tr>\n",
       "      <th>108389</th>\n",
       "      <td>2004</td>\n",
       "      <td>2</td>\n",
       "      <td>0</td>\n",
       "      <td>0.0</td>\n",
       "    </tr>\n",
       "    <tr>\n",
       "      <th>16233</th>\n",
       "      <td>2516</td>\n",
       "      <td>0</td>\n",
       "      <td>3</td>\n",
       "      <td>1.0</td>\n",
       "    </tr>\n",
       "    <tr>\n",
       "      <th>53728</th>\n",
       "      <td>2516</td>\n",
       "      <td>1</td>\n",
       "      <td>3</td>\n",
       "      <td>1.0</td>\n",
       "    </tr>\n",
       "    <tr>\n",
       "      <th>91223</th>\n",
       "      <td>2516</td>\n",
       "      <td>2</td>\n",
       "      <td>3</td>\n",
       "      <td>1.0</td>\n",
       "    </tr>\n",
       "    <tr>\n",
       "      <th>6042</th>\n",
       "      <td>3181</td>\n",
       "      <td>0</td>\n",
       "      <td>3</td>\n",
       "      <td>1.0</td>\n",
       "    </tr>\n",
       "    <tr>\n",
       "      <th>43537</th>\n",
       "      <td>3181</td>\n",
       "      <td>1</td>\n",
       "      <td>3</td>\n",
       "      <td>1.0</td>\n",
       "    </tr>\n",
       "    <tr>\n",
       "      <th>81032</th>\n",
       "      <td>3181</td>\n",
       "      <td>2</td>\n",
       "      <td>3</td>\n",
       "      <td>1.0</td>\n",
       "    </tr>\n",
       "    <tr>\n",
       "      <th>28733</th>\n",
       "      <td>3482</td>\n",
       "      <td>0</td>\n",
       "      <td>2</td>\n",
       "      <td>1.0</td>\n",
       "    </tr>\n",
       "    <tr>\n",
       "      <th>66228</th>\n",
       "      <td>3482</td>\n",
       "      <td>1</td>\n",
       "      <td>2</td>\n",
       "      <td>1.0</td>\n",
       "    </tr>\n",
       "    <tr>\n",
       "      <th>103723</th>\n",
       "      <td>3482</td>\n",
       "      <td>2</td>\n",
       "      <td>2</td>\n",
       "      <td>0.0</td>\n",
       "    </tr>\n",
       "    <tr>\n",
       "      <th>9999</th>\n",
       "      <td>3536</td>\n",
       "      <td>0</td>\n",
       "      <td>3</td>\n",
       "      <td>1.0</td>\n",
       "    </tr>\n",
       "    <tr>\n",
       "      <th>47494</th>\n",
       "      <td>3536</td>\n",
       "      <td>1</td>\n",
       "      <td>3</td>\n",
       "      <td>1.0</td>\n",
       "    </tr>\n",
       "    <tr>\n",
       "      <th>84989</th>\n",
       "      <td>3536</td>\n",
       "      <td>2</td>\n",
       "      <td>3</td>\n",
       "      <td>1.0</td>\n",
       "    </tr>\n",
       "    <tr>\n",
       "      <th>35089</th>\n",
       "      <td>3577</td>\n",
       "      <td>0</td>\n",
       "      <td>3</td>\n",
       "      <td>1.0</td>\n",
       "    </tr>\n",
       "    <tr>\n",
       "      <th>72584</th>\n",
       "      <td>3577</td>\n",
       "      <td>1</td>\n",
       "      <td>3</td>\n",
       "      <td>1.0</td>\n",
       "    </tr>\n",
       "    <tr>\n",
       "      <th>110079</th>\n",
       "      <td>3577</td>\n",
       "      <td>2</td>\n",
       "      <td>3</td>\n",
       "      <td>1.0</td>\n",
       "    </tr>\n",
       "  </tbody>\n",
       "</table>\n",
       "</div>"
      ],
      "text/plain": [
       "         NIA  time  N_vaccine_total  Vacuna\n",
       "33429    352     0                3     1.0\n",
       "70924    352     1                3     1.0\n",
       "108419   352     2                3     1.0\n",
       "34660    633     0                3     1.0\n",
       "72155    633     1                3     1.0\n",
       "109650   633     2                3     1.0\n",
       "18667    637     0                3     1.0\n",
       "56162    637     1                3     1.0\n",
       "93657    637     2                3     1.0\n",
       "29183   1018     0                2     1.0\n",
       "66678   1018     1                2     1.0\n",
       "104173  1018     2                2     0.0\n",
       "33399   2004     0                0     0.0\n",
       "70894   2004     1                0     0.0\n",
       "108389  2004     2                0     0.0\n",
       "16233   2516     0                3     1.0\n",
       "53728   2516     1                3     1.0\n",
       "91223   2516     2                3     1.0\n",
       "6042    3181     0                3     1.0\n",
       "43537   3181     1                3     1.0\n",
       "81032   3181     2                3     1.0\n",
       "28733   3482     0                2     1.0\n",
       "66228   3482     1                2     1.0\n",
       "103723  3482     2                2     0.0\n",
       "9999    3536     0                3     1.0\n",
       "47494   3536     1                3     1.0\n",
       "84989   3536     2                3     1.0\n",
       "35089   3577     0                3     1.0\n",
       "72584   3577     1                3     1.0\n",
       "110079  3577     2                3     1.0"
      ]
     },
     "execution_count": 31,
     "metadata": {},
     "output_type": "execute_result"
    }
   ],
   "source": [
    "data_piv[['NIA', 'time', 'N_vaccine_total','Vacuna']].sort_values(by=['NIA','time'], axis=0).head(30)"
   ]
  },
  {
   "cell_type": "code",
   "execution_count": 18,
   "metadata": {
    "tags": []
   },
   "outputs": [],
   "source": [
    "# Transform outcome for binary eof\n",
    "#data_piv.loc[(data_piv.time==1)|(data_piv.time==2), 'DM'] = np.NaN"
   ]
  },
  {
   "cell_type": "code",
   "execution_count": 19,
   "metadata": {
    "tags": []
   },
   "outputs": [],
   "source": [
    "# G-formula"
   ]
  },
  {
   "cell_type": "code",
   "execution_count": 20,
   "metadata": {
    "tags": []
   },
   "outputs": [],
   "source": [
    "# Attempt with \"full\" model version and GLMs\n",
    "\n",
    "time_name = 'time'\n",
    "id = 'NIA'\n",
    "time_points = np.max(np.unique(data_piv[time_name])) + 1\n",
    "\n",
    "covnames = [\n",
    "  'test_res_sp_',\n",
    "  'test_res_smoking_',\n",
    "  'test_res_chol_',\n",
    "  'test_res_abdo_',\n",
    "  'test_res_dp_',\n",
    "  'test_res_imc_',\n",
    "  'test_res_bg_',\n",
    "  'test_res_covid_',\n",
    "  'test_res_gma_',\n",
    "  'Vacuna_']\n",
    "\n",
    "covtypes = [\n",
    "  'normal',\n",
    "  'categorical',\n",
    "  'normal',\n",
    "  'normal',\n",
    "  'normal',\n",
    "  'normal',\n",
    "  'normal',\n",
    "  'binary',\n",
    "  'truncated normal',\n",
    "  'binary']\n",
    "\n",
    "trunc_params = ['NA', 'NA', 'NA', 'NA', 'NA', 'NA','NA', 'NA', [0, 'left'], 'NA']\n",
    "\n",
    "covmodels = [\n",
    "  'test_res_sp_ ~ lag1_test_res_sp_ + lag1_test_res_imc_ + data_naixement + pais_c + lag1_test_res_smoking_ + test_res_sociostat_1 + lag1_Vacuna_ + time',\n",
    "  'test_res_smoking_ ~ lag1_test_res_smoking_ + data_naixement + pais_c + test_res_sociostat_1 + lag1_Vacuna_ + time',\n",
    "  'test_res_chol_ ~ lag1_test_res_chol_ + data_naixement + pais_c + test_res_sociostat_1 + lag1_Vacuna_ + time',\n",
    "  'test_res_abdo_ ~ lag1_test_res_abdo_ + lag1_test_res_imc_ + data_naixement + pais_c + lag1_test_res_smoking_ + lag1_Vacuna_ + time',\n",
    "  'test_res_dp_ ~ lag1_test_res_dp_ + lag1_test_res_imc_ + data_naixement + pais_c + lag1_test_res_smoking_ + test_res_sociostat_1 + lag1_Vacuna_ + time',\n",
    "  'test_res_imc_ ~ lag1_test_res_imc_ + data_naixement + pais_c + lag1_test_res_smoking_ + test_res_sociostat_1 + lag1_Vacuna_ + time',\n",
    "  'test_res_bg_ ~ lag1_test_res_bg_ + lag1_test_res_imc_ + data_naixement + pais_c + test_res_sociostat_1 + lag1_Vacuna_ + time',\n",
    "  'test_res_covid_ ~ lag1_test_res_covid_ + lag1_test_res_imc_ + data_naixement + pais_c + lag1_test_res_bg_ + lag1_test_res_smoking_ + test_res_sociostat_1 + lag1_Vacuna_ + time',\n",
    "  'test_res_gma_ ~ lag1_test_res_gma_ + lag1_test_res_imc_ + data_naixement + lag1_test_res_dp_ + lag1_test_res_sp_ + lag1_test_res_chol_ + pais_c + lag1_test_res_bg_ + lag1_test_res_smoking_ + lag1_Vacuna_ + time',\n",
    "  'Vacuna_ ~ lag1_Vacuna_ + lag1_test_res_sp_ + lag1_test_res_smoking_ + lag1_test_res_chol_ + lag1_test_res_abdo_ + lag1_test_res_dp_ + lag1_test_res_imc_ + lag1_test_res_bg_ + lag1_test_res_covid_ + lag1_test_res_gma_ + time']\n",
    "\n",
    "basecovs = ['abs_c', 'pais_c', 'sexe', 'data_naixement', 'test_res_sociostat_1'] \n",
    "\n",
    "outcome_name = 'DM'\n",
    "ymodel = 'DM ~ abs_c + pais_c + sexe + data_naixement + test_res_sociostat_1+\\\n",
    "  test_res_sp_ + lag1_test_res_sp_ +\\\n",
    "  test_res_smoking_ + lag1_test_res_smoking_+\\\n",
    "  test_res_chol_ + lag1_test_res_chol_+\\\n",
    "  test_res_abdo_ + lag1_test_res_abdo_+\\\n",
    "  test_res_dp_ + lag1_test_res_dp_+\\\n",
    "  test_res_imc_ + lag1_test_res_imc_+\\\n",
    "  test_res_bg_ + lag1_test_res_bg_+\\\n",
    "  test_res_covid_ + lag1_test_res_covid_+\\\n",
    "  test_res_gma_ + lag1_test_res_gma_+\\\n",
    "  Vacuna_ + lag1_Vacuna_'\n",
    " \n",
    "outcome_type = 'binary_eof'\n",
    "int_descript = ['Never treat', 'Treat on Vacuna only at t1', 'Treat on Vacuna only at t1 & t2', 'Treat on Vacuna at t1, t2 & t3']\n",
    "\n",
    "Intervention1_Vacuna_ = [static, np.zeros(time_points),[0, 1, 2]]\n",
    "Intervention2_Vacuna_ = [static, np.ones(time_points), [0]]\n",
    "Intervention3_Vacuna_ = [static, np.ones(time_points), [0, 1]]\n",
    "Intervention4_Vacuna_ = [static, np.ones(time_points), [0, 1, 2]]"
   ]
  },
  {
   "cell_type": "code",
   "execution_count": null,
   "metadata": {
    "tags": []
   },
   "outputs": [
    {
     "name": "stdout",
     "output_type": "stream",
     "text": [
      "start fitting parametric model.\n"
     ]
    }
   ],
   "source": [
    "g3 = ParametricGformula(obs_data = data_piv, id = id, time_name=time_name,\n",
    "                         time_points = time_points, int_descript = int_descript,\n",
    "                         covnames=covnames, covtypes=covtypes, trunc_params=trunc_params,\n",
    "                         covmodels=covmodels, basecovs=basecovs,\n",
    "                         outcome_name=outcome_name, ymodel=ymodel, outcome_type=outcome_type,\n",
    "                         Intervention1_Vacuna_ = Intervention1_Vacuna_,\n",
    "                         Intervention2_Vacuna_ = Intervention2_Vacuna_,\n",
    "                         Intervention3_Vacuna_ = Intervention3_Vacuna_,\n",
    "                         Intervention4_Vacuna_ = Intervention4_Vacuna_,\n",
    "                         nsamples=0, parallel=True, ncores=30)\n",
    "\n",
    "g3.fit()\n",
    "\n",
    "print('********************************************************************')"
   ]
  },
  {
   "cell_type": "code",
   "execution_count": null,
   "metadata": {
    "tags": []
   },
   "outputs": [],
   "source": [
    "# Serialize the object to a binary format\n",
    "with open('gform3.pkl', 'wb') as file:\n",
    "    pickle.dump(g3, file)"
   ]
  },
  {
   "cell_type": "code",
   "execution_count": null,
   "metadata": {},
   "outputs": [],
   "source": [
    "## With ML"
   ]
  },
  {
   "cell_type": "code",
   "execution_count": 20,
   "metadata": {
    "tags": []
   },
   "outputs": [],
   "source": [
    "# G-formula package things\n",
    "\n",
    "time_name = 'time'\n",
    "id = 'NIA'\n",
    "time_points = np.max(np.unique(data_piv[time_name])) + 1\n",
    "\n",
    "covnames = [\n",
    "  'test_res_sp_',\n",
    "  'test_res_smoking_',\n",
    "  'test_res_chol_',\n",
    "  'test_res_abdo_',\n",
    "  'test_res_dp_',\n",
    "  'test_res_imc_',\n",
    "  'test_res_bg_',\n",
    "  'test_res_covid_',\n",
    "  'test_res_gma_',\n",
    "  'Vacuna']\n",
    "\n",
    "covtypes = [\n",
    "  'unknown-continuous',\n",
    "  'unknown-continuous',\n",
    "  'unknown-continuous',\n",
    "  'unknown-continuous',\n",
    "  'unknown-continuous',\n",
    "  'unknown-continuous',\n",
    "  'unknown-continuous',\n",
    "  'unknown-binary',\n",
    "  'unknown-continuous',\n",
    "  'unknown-binary']\n",
    "\n",
    "trunc_params = ['NA', 'NA', 'NA', 'NA', 'NA', 'NA','NA', 'NA', 'NA', 'NA']\n",
    "\n",
    "covmodels = [\n",
    "  'test_res_sp_ ~ lag1_test_res_sp_ + lag1_test_res_imc_ + data_naixement + pais_c + lag1_test_res_smoking_ + test_res_sociostat_1 + lag1_Vacuna + time',\n",
    "  'test_res_smoking_ ~ lag1_test_res_smoking_ + data_naixement + pais_c + test_res_sociostat_1 + lag1_Vacuna + time',\n",
    "  'test_res_chol_ ~ lag1_test_res_chol_ + data_naixement + pais_c + test_res_sociostat_1 + lag1_Vacuna + time',\n",
    "  'test_res_abdo_ ~ lag1_test_res_abdo_ + lag1_test_res_imc_ + data_naixement + pais_c + lag1_test_res_smoking_ + lag1_Vacuna + time',\n",
    "  'test_res_dp_ ~ lag1_test_res_dp_ + lag1_test_res_imc_ + data_naixement + pais_c + lag1_test_res_smoking_ + test_res_sociostat_1 + lag1_Vacuna + time',\n",
    "  'test_res_imc_ ~ lag1_test_res_imc_ + data_naixement + pais_c + lag1_test_res_smoking_ + test_res_sociostat_1 + lag1_Vacuna + time',\n",
    "  'test_res_bg_ ~ lag1_test_res_bg_ + lag1_test_res_imc_ + data_naixement + pais_c + test_res_sociostat_1 + lag1_Vacuna + time',\n",
    "  'test_res_covid_ ~ lag1_test_res_covid_ + lag1_test_res_imc_ + data_naixement + pais_c + lag1_test_res_bg_ + lag1_test_res_smoking_ + test_res_sociostat_1 + lag1_Vacuna + time',\n",
    "  'test_res_gma_ ~ lag1_test_res_gma_ + lag1_test_res_imc_ + data_naixement + lag1_test_res_dp_ + lag1_test_res_sp_ + lag1_test_res_chol_ + pais_c + lag1_test_res_bg_ + lag1_test_res_smoking_ + lag1_Vacuna + time',\n",
    "  'Vacuna ~ lag1_Vacuna + lag1_test_res_sp_ + lag1_test_res_smoking_ + lag1_test_res_chol_ + lag1_test_res_abdo_ + lag1_test_res_dp_ + lag1_test_res_imc_ + lag1_test_res_bg_ + lag1_test_res_covid_ + lag1_test_res_gma_ + time']\n",
    "\n",
    "basecovs = ['abs_c', 'pais_c', 'sexe', 'data_naixement', 'test_res_sociostat_1'] \n",
    "\n",
    "outcome_name = 'DM'\n",
    "ymodel = 'DM ~ abs_c + pais_c + sexe + data_naixement + test_res_sociostat_1+\\\n",
    "  test_res_sp_ + lag1_test_res_sp_ +\\\n",
    "  test_res_smoking_ + lag1_test_res_smoking_+\\\n",
    "  test_res_chol_ + lag1_test_res_chol_+\\\n",
    "  test_res_abdo_ + lag1_test_res_abdo_+\\\n",
    "  test_res_dp_ + lag1_test_res_dp_+\\\n",
    "  test_res_imc_ + lag1_test_res_imc_+\\\n",
    "  test_res_bg_ + lag1_test_res_bg_+\\\n",
    "  test_res_covid_ + lag1_test_res_covid_+\\\n",
    "  test_res_gma_ + lag1_test_res_gma_+\\\n",
    "  Vacuna + lag1_Vacuna'\n",
    " \n",
    "outcome_type = 'survival'\n",
    "int_descript = ['Never treat', 'Treat on Vacuna only at t1', 'Treat on Vacuna only at t1 & t2', 'Treat on Vacuna at t1, t2 & t3']\n",
    "ymodel_type = 'ML'\n",
    "\n",
    "Intervention1_Vacuna = [static, np.zeros(time_points),[0, 1, 2]]\n",
    "Intervention2_Vacuna = [static, np.ones(time_points), [0]]\n",
    "Intervention3_Vacuna = [static, np.ones(time_points), [0, 1]]\n",
    "Intervention4_Vacuna = [static, np.ones(time_points), [0, 1, 2]]"
   ]
  },
  {
   "cell_type": "code",
   "execution_count": 21,
   "metadata": {
    "tags": []
   },
   "outputs": [
    {
     "name": "stdout",
     "output_type": "stream",
     "text": [
      "start fitting parametric model.\n",
      "start simulating.\n",
      "Start bootstrapping for CIs\n"
     ]
    },
    {
     "name": "stderr",
     "output_type": "stream",
     "text": [
      "Bootstrap progress: 100%|██████████| 10/10 [00:00<00:00, 45148.59it/s]\n"
     ]
    },
    {
     "name": "stdout",
     "output_type": "stream",
     "text": [
      "End bootstrapping for CIs\n"
     ]
    },
    {
     "ename": "TypeError",
     "evalue": "'NoneType' object is not subscriptable",
     "output_type": "error",
     "traceback": [
      "\u001b[0;31m---------------------------------------------------------------------------\u001b[0m",
      "\u001b[0;31mTypeError\u001b[0m                                 Traceback (most recent call last)",
      "Cell \u001b[0;32mIn[21], line 12\u001b[0m\n\u001b[1;32m      1\u001b[0m g \u001b[38;5;241m=\u001b[39m ParametricGformula(obs_data \u001b[38;5;241m=\u001b[39m data_piv, \u001b[38;5;28mid\u001b[39m \u001b[38;5;241m=\u001b[39m \u001b[38;5;28mid\u001b[39m, time_name\u001b[38;5;241m=\u001b[39mtime_name,\n\u001b[1;32m      2\u001b[0m                         time_points \u001b[38;5;241m=\u001b[39m time_points, int_descript \u001b[38;5;241m=\u001b[39m int_descript,\n\u001b[1;32m      3\u001b[0m                         covnames\u001b[38;5;241m=\u001b[39mcovnames, covtypes\u001b[38;5;241m=\u001b[39mcovtypes, trunc_params\u001b[38;5;241m=\u001b[39mtrunc_params,\n\u001b[0;32m   (...)\u001b[0m\n\u001b[1;32m      9\u001b[0m                         Intervention4_Vacuna \u001b[38;5;241m=\u001b[39m Intervention4_Vacuna,\n\u001b[1;32m     10\u001b[0m                         nsamples\u001b[38;5;241m=\u001b[39m\u001b[38;5;241m10\u001b[39m, parallel\u001b[38;5;241m=\u001b[39m\u001b[38;5;28;01mTrue\u001b[39;00m, ncores\u001b[38;5;241m=\u001b[39m\u001b[38;5;241m30\u001b[39m)\n\u001b[0;32m---> 12\u001b[0m \u001b[43mg\u001b[49m\u001b[38;5;241;43m.\u001b[39;49m\u001b[43mfit\u001b[49m\u001b[43m(\u001b[49m\u001b[43m)\u001b[49m\n",
      "File \u001b[0;32m~/miniconda3/envs/python3.10/lib/python3.10/site-packages/pygformula-1.0.3-py3.10.egg/pygformula/parametric_gformula/parametric_gformula.py:724\u001b[0m, in \u001b[0;36mParametricGformula.fit\u001b[0;34m(self)\u001b[0m\n\u001b[1;32m    720\u001b[0m         boot_results_dicts\u001b[38;5;241m.\u001b[39mappend(boot_result_dict)\n\u001b[1;32m    722\u001b[0m \u001b[38;5;28mself\u001b[39m\u001b[38;5;241m.\u001b[39mboot_results \u001b[38;5;241m=\u001b[39m [boot_results_dicts[i][\u001b[38;5;124m'\u001b[39m\u001b[38;5;124mboot_results\u001b[39m\u001b[38;5;124m'\u001b[39m] \u001b[38;5;28;01mfor\u001b[39;00m i \u001b[38;5;129;01min\u001b[39;00m \u001b[38;5;28mrange\u001b[39m(\u001b[38;5;28mself\u001b[39m\u001b[38;5;241m.\u001b[39mnsamples) \u001b[38;5;28;01mif\u001b[39;00m boot_results_dicts[i][\u001b[38;5;124m'\u001b[39m\u001b[38;5;124mboot_results\u001b[39m\u001b[38;5;124m'\u001b[39m] \u001b[38;5;129;01mis\u001b[39;00m \u001b[38;5;129;01mnot\u001b[39;00m \u001b[38;5;28;01mNone\u001b[39;00m]\n\u001b[0;32m--> 724\u001b[0m \u001b[38;5;28mself\u001b[39m\u001b[38;5;241m.\u001b[39mbootests \u001b[38;5;241m=\u001b[39m {\u001b[38;5;124m'\u001b[39m\u001b[38;5;124msample_\u001b[39m\u001b[38;5;132;01m{0}\u001b[39;00m\u001b[38;5;124m_estimates\u001b[39m\u001b[38;5;124m'\u001b[39m\u001b[38;5;241m.\u001b[39mformat(i): {\u001b[38;5;28mself\u001b[39m\u001b[38;5;241m.\u001b[39mint_descript[j]:\n\u001b[1;32m    725\u001b[0m                  boot_results_dicts[i][\u001b[38;5;124m'\u001b[39m\u001b[38;5;124mboot_results\u001b[39m\u001b[38;5;124m'\u001b[39m][j] \u001b[38;5;28;01mfor\u001b[39;00m j \u001b[38;5;129;01min\u001b[39;00m \u001b[38;5;28mrange\u001b[39m(\u001b[38;5;28mlen\u001b[39m(\u001b[38;5;28mself\u001b[39m\u001b[38;5;241m.\u001b[39mint_descript))}\n\u001b[1;32m    726\u001b[0m                  \u001b[38;5;28;01mfor\u001b[39;00m i \u001b[38;5;129;01min\u001b[39;00m \u001b[38;5;28mrange\u001b[39m(\u001b[38;5;28mself\u001b[39m\u001b[38;5;241m.\u001b[39mnsamples)}\n\u001b[1;32m    727\u001b[0m \u001b[38;5;28mself\u001b[39m\u001b[38;5;241m.\u001b[39mbootcoeffs \u001b[38;5;241m=\u001b[39m {\u001b[38;5;124m'\u001b[39m\u001b[38;5;124msample_\u001b[39m\u001b[38;5;132;01m{0}\u001b[39;00m\u001b[38;5;124m_coeffs\u001b[39m\u001b[38;5;124m'\u001b[39m\u001b[38;5;241m.\u001b[39mformat(i): boot_results_dicts[i][\u001b[38;5;124m'\u001b[39m\u001b[38;5;124mbootcoeffs\u001b[39m\u001b[38;5;124m'\u001b[39m] \u001b[38;5;28;01mfor\u001b[39;00m i \u001b[38;5;129;01min\u001b[39;00m\n\u001b[1;32m    728\u001b[0m                    \u001b[38;5;28mrange\u001b[39m(\u001b[38;5;28mself\u001b[39m\u001b[38;5;241m.\u001b[39mnsamples)}\n\u001b[1;32m    729\u001b[0m \u001b[38;5;28mself\u001b[39m\u001b[38;5;241m.\u001b[39mbootstderrs \u001b[38;5;241m=\u001b[39m {\u001b[38;5;124m'\u001b[39m\u001b[38;5;124msample_\u001b[39m\u001b[38;5;132;01m{0}\u001b[39;00m\u001b[38;5;124m_stderrs\u001b[39m\u001b[38;5;124m'\u001b[39m\u001b[38;5;241m.\u001b[39mformat(i): boot_results_dicts[i][\u001b[38;5;124m'\u001b[39m\u001b[38;5;124mbootstderrs\u001b[39m\u001b[38;5;124m'\u001b[39m] \u001b[38;5;28;01mfor\u001b[39;00m i \u001b[38;5;129;01min\u001b[39;00m\n\u001b[1;32m    730\u001b[0m                     \u001b[38;5;28mrange\u001b[39m(\u001b[38;5;28mself\u001b[39m\u001b[38;5;241m.\u001b[39mnsamples)}\n",
      "File \u001b[0;32m~/miniconda3/envs/python3.10/lib/python3.10/site-packages/pygformula-1.0.3-py3.10.egg/pygformula/parametric_gformula/parametric_gformula.py:724\u001b[0m, in \u001b[0;36m<dictcomp>\u001b[0;34m(.0)\u001b[0m\n\u001b[1;32m    720\u001b[0m         boot_results_dicts\u001b[38;5;241m.\u001b[39mappend(boot_result_dict)\n\u001b[1;32m    722\u001b[0m \u001b[38;5;28mself\u001b[39m\u001b[38;5;241m.\u001b[39mboot_results \u001b[38;5;241m=\u001b[39m [boot_results_dicts[i][\u001b[38;5;124m'\u001b[39m\u001b[38;5;124mboot_results\u001b[39m\u001b[38;5;124m'\u001b[39m] \u001b[38;5;28;01mfor\u001b[39;00m i \u001b[38;5;129;01min\u001b[39;00m \u001b[38;5;28mrange\u001b[39m(\u001b[38;5;28mself\u001b[39m\u001b[38;5;241m.\u001b[39mnsamples) \u001b[38;5;28;01mif\u001b[39;00m boot_results_dicts[i][\u001b[38;5;124m'\u001b[39m\u001b[38;5;124mboot_results\u001b[39m\u001b[38;5;124m'\u001b[39m] \u001b[38;5;129;01mis\u001b[39;00m \u001b[38;5;129;01mnot\u001b[39;00m \u001b[38;5;28;01mNone\u001b[39;00m]\n\u001b[0;32m--> 724\u001b[0m \u001b[38;5;28mself\u001b[39m\u001b[38;5;241m.\u001b[39mbootests \u001b[38;5;241m=\u001b[39m {\u001b[38;5;124m'\u001b[39m\u001b[38;5;124msample_\u001b[39m\u001b[38;5;132;01m{0}\u001b[39;00m\u001b[38;5;124m_estimates\u001b[39m\u001b[38;5;124m'\u001b[39m\u001b[38;5;241m.\u001b[39mformat(i): {\u001b[38;5;28mself\u001b[39m\u001b[38;5;241m.\u001b[39mint_descript[j]:\n\u001b[1;32m    725\u001b[0m                  boot_results_dicts[i][\u001b[38;5;124m'\u001b[39m\u001b[38;5;124mboot_results\u001b[39m\u001b[38;5;124m'\u001b[39m][j] \u001b[38;5;28;01mfor\u001b[39;00m j \u001b[38;5;129;01min\u001b[39;00m \u001b[38;5;28mrange\u001b[39m(\u001b[38;5;28mlen\u001b[39m(\u001b[38;5;28mself\u001b[39m\u001b[38;5;241m.\u001b[39mint_descript))}\n\u001b[1;32m    726\u001b[0m                  \u001b[38;5;28;01mfor\u001b[39;00m i \u001b[38;5;129;01min\u001b[39;00m \u001b[38;5;28mrange\u001b[39m(\u001b[38;5;28mself\u001b[39m\u001b[38;5;241m.\u001b[39mnsamples)}\n\u001b[1;32m    727\u001b[0m \u001b[38;5;28mself\u001b[39m\u001b[38;5;241m.\u001b[39mbootcoeffs \u001b[38;5;241m=\u001b[39m {\u001b[38;5;124m'\u001b[39m\u001b[38;5;124msample_\u001b[39m\u001b[38;5;132;01m{0}\u001b[39;00m\u001b[38;5;124m_coeffs\u001b[39m\u001b[38;5;124m'\u001b[39m\u001b[38;5;241m.\u001b[39mformat(i): boot_results_dicts[i][\u001b[38;5;124m'\u001b[39m\u001b[38;5;124mbootcoeffs\u001b[39m\u001b[38;5;124m'\u001b[39m] \u001b[38;5;28;01mfor\u001b[39;00m i \u001b[38;5;129;01min\u001b[39;00m\n\u001b[1;32m    728\u001b[0m                    \u001b[38;5;28mrange\u001b[39m(\u001b[38;5;28mself\u001b[39m\u001b[38;5;241m.\u001b[39mnsamples)}\n\u001b[1;32m    729\u001b[0m \u001b[38;5;28mself\u001b[39m\u001b[38;5;241m.\u001b[39mbootstderrs \u001b[38;5;241m=\u001b[39m {\u001b[38;5;124m'\u001b[39m\u001b[38;5;124msample_\u001b[39m\u001b[38;5;132;01m{0}\u001b[39;00m\u001b[38;5;124m_stderrs\u001b[39m\u001b[38;5;124m'\u001b[39m\u001b[38;5;241m.\u001b[39mformat(i): boot_results_dicts[i][\u001b[38;5;124m'\u001b[39m\u001b[38;5;124mbootstderrs\u001b[39m\u001b[38;5;124m'\u001b[39m] \u001b[38;5;28;01mfor\u001b[39;00m i \u001b[38;5;129;01min\u001b[39;00m\n\u001b[1;32m    730\u001b[0m                     \u001b[38;5;28mrange\u001b[39m(\u001b[38;5;28mself\u001b[39m\u001b[38;5;241m.\u001b[39mnsamples)}\n",
      "File \u001b[0;32m~/miniconda3/envs/python3.10/lib/python3.10/site-packages/pygformula-1.0.3-py3.10.egg/pygformula/parametric_gformula/parametric_gformula.py:725\u001b[0m, in \u001b[0;36m<dictcomp>\u001b[0;34m(.0)\u001b[0m\n\u001b[1;32m    720\u001b[0m         boot_results_dicts\u001b[38;5;241m.\u001b[39mappend(boot_result_dict)\n\u001b[1;32m    722\u001b[0m \u001b[38;5;28mself\u001b[39m\u001b[38;5;241m.\u001b[39mboot_results \u001b[38;5;241m=\u001b[39m [boot_results_dicts[i][\u001b[38;5;124m'\u001b[39m\u001b[38;5;124mboot_results\u001b[39m\u001b[38;5;124m'\u001b[39m] \u001b[38;5;28;01mfor\u001b[39;00m i \u001b[38;5;129;01min\u001b[39;00m \u001b[38;5;28mrange\u001b[39m(\u001b[38;5;28mself\u001b[39m\u001b[38;5;241m.\u001b[39mnsamples) \u001b[38;5;28;01mif\u001b[39;00m boot_results_dicts[i][\u001b[38;5;124m'\u001b[39m\u001b[38;5;124mboot_results\u001b[39m\u001b[38;5;124m'\u001b[39m] \u001b[38;5;129;01mis\u001b[39;00m \u001b[38;5;129;01mnot\u001b[39;00m \u001b[38;5;28;01mNone\u001b[39;00m]\n\u001b[1;32m    724\u001b[0m \u001b[38;5;28mself\u001b[39m\u001b[38;5;241m.\u001b[39mbootests \u001b[38;5;241m=\u001b[39m {\u001b[38;5;124m'\u001b[39m\u001b[38;5;124msample_\u001b[39m\u001b[38;5;132;01m{0}\u001b[39;00m\u001b[38;5;124m_estimates\u001b[39m\u001b[38;5;124m'\u001b[39m\u001b[38;5;241m.\u001b[39mformat(i): {\u001b[38;5;28mself\u001b[39m\u001b[38;5;241m.\u001b[39mint_descript[j]:\n\u001b[0;32m--> 725\u001b[0m                  \u001b[43mboot_results_dicts\u001b[49m\u001b[43m[\u001b[49m\u001b[43mi\u001b[49m\u001b[43m]\u001b[49m\u001b[43m[\u001b[49m\u001b[38;5;124;43m'\u001b[39;49m\u001b[38;5;124;43mboot_results\u001b[39;49m\u001b[38;5;124;43m'\u001b[39;49m\u001b[43m]\u001b[49m\u001b[43m[\u001b[49m\u001b[43mj\u001b[49m\u001b[43m]\u001b[49m \u001b[38;5;28;01mfor\u001b[39;00m j \u001b[38;5;129;01min\u001b[39;00m \u001b[38;5;28mrange\u001b[39m(\u001b[38;5;28mlen\u001b[39m(\u001b[38;5;28mself\u001b[39m\u001b[38;5;241m.\u001b[39mint_descript))}\n\u001b[1;32m    726\u001b[0m                  \u001b[38;5;28;01mfor\u001b[39;00m i \u001b[38;5;129;01min\u001b[39;00m \u001b[38;5;28mrange\u001b[39m(\u001b[38;5;28mself\u001b[39m\u001b[38;5;241m.\u001b[39mnsamples)}\n\u001b[1;32m    727\u001b[0m \u001b[38;5;28mself\u001b[39m\u001b[38;5;241m.\u001b[39mbootcoeffs \u001b[38;5;241m=\u001b[39m {\u001b[38;5;124m'\u001b[39m\u001b[38;5;124msample_\u001b[39m\u001b[38;5;132;01m{0}\u001b[39;00m\u001b[38;5;124m_coeffs\u001b[39m\u001b[38;5;124m'\u001b[39m\u001b[38;5;241m.\u001b[39mformat(i): boot_results_dicts[i][\u001b[38;5;124m'\u001b[39m\u001b[38;5;124mbootcoeffs\u001b[39m\u001b[38;5;124m'\u001b[39m] \u001b[38;5;28;01mfor\u001b[39;00m i \u001b[38;5;129;01min\u001b[39;00m\n\u001b[1;32m    728\u001b[0m                    \u001b[38;5;28mrange\u001b[39m(\u001b[38;5;28mself\u001b[39m\u001b[38;5;241m.\u001b[39mnsamples)}\n\u001b[1;32m    729\u001b[0m \u001b[38;5;28mself\u001b[39m\u001b[38;5;241m.\u001b[39mbootstderrs \u001b[38;5;241m=\u001b[39m {\u001b[38;5;124m'\u001b[39m\u001b[38;5;124msample_\u001b[39m\u001b[38;5;132;01m{0}\u001b[39;00m\u001b[38;5;124m_stderrs\u001b[39m\u001b[38;5;124m'\u001b[39m\u001b[38;5;241m.\u001b[39mformat(i): boot_results_dicts[i][\u001b[38;5;124m'\u001b[39m\u001b[38;5;124mbootstderrs\u001b[39m\u001b[38;5;124m'\u001b[39m] \u001b[38;5;28;01mfor\u001b[39;00m i \u001b[38;5;129;01min\u001b[39;00m\n\u001b[1;32m    730\u001b[0m                     \u001b[38;5;28mrange\u001b[39m(\u001b[38;5;28mself\u001b[39m\u001b[38;5;241m.\u001b[39mnsamples)}\n",
      "\u001b[0;31mTypeError\u001b[0m: 'NoneType' object is not subscriptable"
     ]
    }
   ],
   "source": [
    "g = ParametricGformula(obs_data = data_piv, id = id, time_name=time_name,\n",
    "                        time_points = time_points, int_descript = int_descript,\n",
    "                        covnames=covnames, covtypes=covtypes, trunc_params=trunc_params,\n",
    "                        covmodels=covmodels, basecovs=basecovs,\n",
    "                        outcome_name=outcome_name, ymodel=ymodel, ymodel_type=ymodel_type, outcome_type=outcome_type,\n",
    "                        Intervention1_Vacuna = Intervention1_Vacuna,\n",
    "                        Intervention2_Vacuna = Intervention2_Vacuna,\n",
    "                        Intervention3_Vacuna = Intervention3_Vacuna,\n",
    "                        Intervention4_Vacuna = Intervention4_Vacuna,\n",
    "                        nsamples=10, parallel=True, ncores=30)\n",
    "\n",
    "g.fit()"
   ]
  },
  {
   "cell_type": "markdown",
   "metadata": {},
   "source": [
    "### Notes:\n",
    "- Time has to start at 0, otherwise we get errors of type \"operands of shape () could not be broadcast together\"\n",
    "- No NaNs in the covariates, otherwise we get errors of type \"operands of shape () could not be broadcast together\""
   ]
  }
 ],
 "metadata": {
  "kernelspec": {
   "display_name": "python3.10-kernel",
   "language": "python",
   "name": "python3.10"
  },
  "language_info": {
   "codemirror_mode": {
    "name": "ipython",
    "version": 3
   },
   "file_extension": ".py",
   "mimetype": "text/x-python",
   "name": "python",
   "nbconvert_exporter": "python",
   "pygments_lexer": "ipython3",
   "version": "3.10.14"
  }
 },
 "nbformat": 4,
 "nbformat_minor": 4
}
