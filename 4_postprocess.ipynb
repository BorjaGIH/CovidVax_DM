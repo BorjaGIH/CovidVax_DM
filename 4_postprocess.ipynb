{
 "cells": [
  {
   "cell_type": "code",
   "execution_count": 1,
   "metadata": {
    "tags": []
   },
   "outputs": [],
   "source": [
    "import pandas as pd\n",
    "import numpy as np\n",
    "import math\n",
    "import glob\n",
    "import os"
   ]
  },
  {
   "cell_type": "code",
   "execution_count": 2,
   "metadata": {
    "tags": []
   },
   "outputs": [],
   "source": [
    "parent_folders = ['/home/bvelasco/CovidVax_DM/Results/binary_eof/grace_period_180/*/*.csv',\n",
    "                 '/home/bvelasco/CovidVax_DM/Results/binary_eof/grace_period_360/*/*.csv',\n",
    "                 '/home/bvelasco/CovidVax_DM/Results/survival/grace_period_180/*/*.csv',\n",
    "                 '/home/bvelasco/CovidVax_DM/Results/survival/grace_period_360/*/*.csv']"
   ]
  },
  {
   "cell_type": "code",
   "execution_count": 3,
   "metadata": {
    "tags": []
   },
   "outputs": [],
   "source": [
    "data=None\n",
    "\n",
    "for _, folder in enumerate(parent_folders):\n",
    "    \n",
    "    result_files = glob.glob(folder)\n",
    "    \n",
    "    for index, file  in enumerate(result_files):\n",
    "\n",
    "        if index==0:\n",
    "            data = pd.read_csv(file)\n",
    "            data.drop(['Unnamed: 0'], inplace=True, axis=1)\n",
    "        else:\n",
    "            newdata = pd.read_csv(file)\n",
    "            newdata.drop(['Unnamed: 0', 'Intervention'], inplace=True, axis=1)\n",
    "            data = pd.concat([data, newdata], axis=1)\n",
    "        \n",
    "    if  'binary_eof' in folder:\n",
    "        result_data = pd.concat([data['g-form mean (NICE)'].mean(axis=1),\n",
    "        data['g-form mean (NICE)'].mean(axis=1)-1.96*data['g-form mean (NICE)'].std(axis=1), \n",
    "        data['g-form mean (NICE)'].mean(axis=1)+1.96*data['g-form mean (NICE)'].std(axis=1),\n",
    "        data['Mean ratio'].mean(axis=1),\n",
    "        data['Mean ratio'].mean(axis=1)-1.96*data['Mean ratio'].std(axis=1),\n",
    "        data['Mean ratio'].mean(axis=1)+1.96*data['Mean ratio'].std(axis=1)], axis=1)\n",
    "    \n",
    "        result_data=result_data.set_axis(['Probability', '95% LCI Probability', '95% UCI Probability', 'Probability ratio', '95% LCI PR', '95% UCI PR'], axis=1)\n",
    "\n",
    "    elif 'survival' in folder:\n",
    "        result_data = pd.concat([data['g-form risk (NICE-parametric)'].mean(axis=1),\n",
    "        data['g-form risk (NICE-parametric)'].mean(axis=1)-1.96*data['g-form risk (NICE-parametric)'].std(axis=1),\n",
    "        data['g-form risk (NICE-parametric)'].mean(axis=1)+1.96*data['g-form risk (NICE-parametric)'].std(axis=1),\n",
    "        data['Risk Ratio'].mean(axis=1),\n",
    "        data['Risk Ratio'].mean(axis=1)-1.96*data['Risk Ratio'].std(axis=1),\n",
    "        data['Risk Ratio'].mean(axis=1)+1.96*data['Risk Ratio'].std(axis=1)], axis=1)\n",
    "    \n",
    "        result_data=result_data.set_axis(['Survival', '95% LCI Survival', '95% UCI Survival', 'Survival ratio', '95% LCI SR', '95% UCI SR'], axis=1)\n",
    "    \n",
    "    result_data = result_data.set_axis(data['Intervention'], axis=0)\n",
    "    result_data.to_csv(folder.split('*')[0] + 'aggregated_results.csv')"
   ]
  },
  {
   "cell_type": "code",
   "execution_count": null,
   "metadata": {},
   "outputs": [],
   "source": []
  }
 ],
 "metadata": {
  "kernelspec": {
   "display_name": "python3.10-kernel",
   "language": "python",
   "name": "python3.10"
  },
  "language_info": {
   "codemirror_mode": {
    "name": "ipython",
    "version": 3
   },
   "file_extension": ".py",
   "mimetype": "text/x-python",
   "name": "python",
   "nbconvert_exporter": "python",
   "pygments_lexer": "ipython3",
   "version": "3.10.14"
  }
 },
 "nbformat": 4,
 "nbformat_minor": 4
}
